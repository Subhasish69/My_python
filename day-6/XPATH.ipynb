{
 "cells": [
  {
   "cell_type": "code",
   "execution_count": null,
   "id": "d0e36deb-7b19-4564-bd0f-e5213ab00a32",
   "metadata": {},
   "outputs": [],
   "source": [
    "from selenium import webdriver\n",
    "from selenium.webdriver.common.by import By\n",
    "from selenium.webdriver.common.keys import Keys\n",
    "from selenium.webdriver import Chrome\n",
    "\n",
    "driver = Chrome()\n",
    "driver.get(\"https://www.facebook.com\")"
   ]
  },
  {
   "cell_type": "code",
   "execution_count": null,
   "id": "eba2facf-13af-4243-840a-daa653c9212d",
   "metadata": {},
   "outputs": [],
   "source": []
  },
  {
   "cell_type": "markdown",
   "id": "ca4c2ec8-ad97-4810-b70f-334c07a28b67",
   "metadata": {},
   "source": [
    "# Types of xpath\n",
    "* Absolute Path\n",
    "* Relative Path"
   ]
  },
  {
   "cell_type": "markdown",
   "id": "e4edddf7-e0c3-40d3-8bb8-fdd595a763b9",
   "metadata": {},
   "source": [
    "### 1. Absolute Path"
   ]
  },
  {
   "cell_type": "code",
   "execution_count": null,
   "id": "541f44d6-924b-4a17-9060-455327f61e41",
   "metadata": {},
   "outputs": [],
   "source": [
    "abs_path = \"/html/body/div[1]/div[2]/div[1]/div/div/div/div[2]/div/div[1]/form/div[1]/div[1]/input\"\n",
    "driver.find_element(By.XPATH, abs_path).send_keys(\"from abs\")"
   ]
  },
  {
   "cell_type": "markdown",
   "id": "4f8f96a4-b96e-4411-a204-b9728895d909",
   "metadata": {},
   "source": [
    "### 2. Relative Path"
   ]
  },
  {
   "cell_type": "code",
   "execution_count": null,
   "id": "853e8fa3-deac-4693-8ef0-790987db8ea6",
   "metadata": {},
   "outputs": [],
   "source": [
    "rel_path = \"//form/div[1]/div[1]/input\"\n",
    "driver.find_element(By.XPATH, rel_path).send_keys(\"from relative path\")"
   ]
  },
  {
   "cell_type": "code",
   "execution_count": null,
   "id": "539d7e9e-c58c-4e36-a66e-b41b96679cde",
   "metadata": {},
   "outputs": [],
   "source": [
    "Please follow this:\n",
    "==================\n",
    "\n",
    "expression ==> $x(\"//input[@id='email']\")\n",
    "converted code ==> driver.find_element(By.XPATH, \"//input[@id='email']\").send_keys(\"demo\")"
   ]
  },
  {
   "cell_type": "markdown",
   "id": "0f4e824c-5521-4335-b67b-d9219cc5482d",
   "metadata": {},
   "source": [
    "# Xpath Functions\n",
    "* starts-with\n",
    "* contains\n",
    "* text()"
   ]
  },
  {
   "cell_type": "code",
   "execution_count": null,
   "id": "9e7b07c5-f70d-4839-9123-a71f65154846",
   "metadata": {},
   "outputs": [],
   "source": [
    "# starts-with\n",
    "$x(\"//input[starts-with(@id,'email')]\")\n",
    "$x(\"//input[starts-with(@id,'emai')]\")\n",
    "$x(\"//input[starts-with(@id,'ema')]\")\n",
    "$x(\"//input[starts-with(@id,'em')]\")\n",
    "$x(\"//input[starts-with(@id,'e')]\")\n",
    "\n",
    "#contains\n",
    "$x(\"//input[contains(@id,'email')]\")\n",
    "$x(\"//input[contains(@id,'emai')]\")\n",
    "$x(\"//input[contains(@id,'ema')]\")\n",
    "$x(\"//input[contains(@id,'em')]\")\n",
    "$x(\"//input[contains(@id,'e')]\")\n",
    "\n",
    "$x(\"//input[contains(@id,'mail')]\")\n",
    "$x(\"//input[contains(@id,'ail')]\")\n",
    "$x(\"//input[contains(@id,'il')]\")\n",
    "$x(\"//input[contains(@id,'l')]\")\n",
    "\n",
    "$x(\"//input[contains(@id,'mai')]\")\n",
    "$x(\"//input[contains(@id,'ai')]\")\n",
    "$x(\"//input[contains(@id,'ma')]\")\n",
    "$x(\"//input[contains(@id,'i')]\")\n",
    "\n",
    "\n",
    "# text()\n",
    "$x(\"//a[text()='Forgotten password?']\")\n",
    "$x(\"//h2[text()='Facebook helps you connect and share with the people in your life.']\")\n",
    "$x(\"//button[text()='Log In']\")\n",
    "\n",
    "\n",
    "# starts + text()\n",
    "$x(\"//button[starts-with(text(), 'Log In')]\")\n",
    "$x(\"//button[starts-with(text(), 'Log I')]\")\n",
    "$x(\"//button[starts-with(text(), 'Log ')]\")\n",
    "$x(\"//button[starts-with(text(), 'Log')]\")\n",
    "$x(\"//button[starts-with(text(), 'Lo')]\")\n",
    "$x(\"//button[starts-with(text(), 'L')]\")\n",
    "\n",
    "$x(\"//a[starts-with(text(),'Forgotten password?')]\")\n",
    "$x(\"//a[starts-with(text(),'Forgotten password')]\")\n",
    "$x(\"//a[starts-with(text(),'Forgotten passwor')]\")\n",
    "$x(\"//a[starts-with(text(),'Forgotten passwo')]\")\n",
    "$x(\"//a[starts-with(text(),'Forgotten passw')]\")\n",
    "$x(\"//a[starts-with(text(),'Forgotten pas')]\")\n",
    "$x(\"//a[starts-with(text(),'Forgotte')]\")\n",
    "$x(\"//a[starts-with(text(),'Forg')]\")\n",
    "$x(\"//a[starts-with(text(),'For')]\")\n",
    "$x(\"//a[starts-with(text(),'Fo')]\")\n",
    "\n",
    "\n",
    "# contains + text()\n",
    "$x(\"//button[contains(text(), 'Log In')]\")\n",
    "$x(\"//button[contains(text(), 'Log I')]\")\n",
    "$x(\"//button[contains(text(), 'Log ')]\")\n",
    "$x(\"//button[contains(text(), 'Log')]\")\n",
    "$x(\"//button[contains(text(), 'Lo')]\")\n",
    "$x(\"//button[contains(text(), 'L')]\")\n",
    "\n",
    "$x(\"//button[contains(text(), 'Log In')]\")\n",
    "$x(\"//button[contains(text(), 'og In')]\")\n",
    "$x(\"//button[contains(text(), 'g In')]\")\n",
    "$x(\"//button[contains(text(), ' In')]\")\n",
    "$x(\"//button[contains(text(), 'In')]\")\n",
    "$x(\"//button[contains(text(), 'n')]\")\n",
    "\n",
    "\n",
    "$x(\"//button[contains(text(), 'og I')]\")\n",
    "$x(\"//button[contains(text(), 'g I')]\")\n",
    "$x(\"//button[contains(text(), 'og ')]\")\n",
    "$x(\"//button[contains(text(), 'Log In')]\")\n",
    "$x(\"//button[contains(text(), 'g I')]\")\n"
   ]
  },
  {
   "cell_type": "markdown",
   "id": "99682776-5cf1-4c29-9dfc-e11439df1b5f",
   "metadata": {},
   "source": [
    "# Advanced Xpath"
   ]
  },
  {
   "cell_type": "markdown",
   "id": "6f6c8faf-0dd9-4296-8f12-d084e19740d0",
   "metadata": {},
   "source": [
    "* and\n",
    "* or\n",
    "* index\n",
    "* chained"
   ]
  },
  {
   "cell_type": "code",
   "execution_count": null,
   "id": "f5966ff5-ec4f-4049-918b-ac9061743988",
   "metadata": {},
   "outputs": [],
   "source": [
    "# and\n",
    "$x(\"//input[@id='email' and @name='email']\")\n",
    "$x(\"//input[@id='email' and @name='email' and @class='inputtext _55r1 _6luy']\")\n",
    "$x(\"//input[@id='email' and @name='email' and @class='inputtext _55r1 _6luy' and @data-testid='royal_email']\")\n",
    "\n",
    "# or\n",
    "$x(\"//input[@placeholder='Email address or phone number' or @placeholder='ಇಮೇಲ್ ಅಥವಾ ಫೋನ್ ಸಂಖ್ಯೆ']\")\n",
    "$x(\"//input[@placeholder='Email address or phone number' or @placeholder='ईमेल या फ़ोन नंबर'\")\n",
    "$x(\"//input[@placeholder='ईमेल या फ़ोन नंबर' or @placeholder='ಇಮೇಲ್ ಅಥವಾ ಫೋನ್ ಸಂಖ್ಯೆ']\")\n",
    "$x(\"//input[@placeholder='Email address or phone number' or @placeholder='ईमेल या फ़ोन नंबर' or @placeholder='ಇಮೇಲ್ ಅಥವಾ ಫೋನ್ ಸಂಖ್ಯೆ']\")\n",
    "\n",
    "# and & or\n",
    "$x(\"//input[@id='email' and @placeholder='Email address or phone number' or @placeholder='ईमेल या फ़ोन नंबर' or @placeholder='ಇಮೇಲ್ ಅಥವಾ ಫೋನ್ ಸಂಖ್ಯೆ']\")\n",
    "$x(\"//input[@placeholder='Email address or phone number' or @placeholder='ईमेल या फ़ोन नंबर' or @placeholder='ಇಮೇಲ್ ಅಥವಾ ಫೋನ್ ಸಂಖ್ಯೆ' and @id='email']\")\n",
    "\n",
    "# and & contains\n",
    "$x(\"//input[contains(@placeholder,'Email ') and @id='email']\")\n",
    "\n",
    "# index ==> siblings\n",
    "$x(\"//select[2]\") ==> month dropdown\n",
    "$x(\"//select[3]\") ==> year dropdown\n",
    "$x(\"//select[1]\") ==> day dropdown\n",
    "\n",
    "\n",
    "#chained\n",
    "$x(\"//span/select[1]\")\n",
    "$x(\"//form//span/select[1]\")\n",
    "$x(\"//body//span/select[1]\")\n",
    "$x(\"//body//span[@class='_5k_4']/span/select[1]\")\n",
    "$x(\"//body//span[@class='_5k_4']//select[1]\")\n",
    "$x(\"//span[@class='_5k_4']//select[1]\")"
   ]
  },
  {
   "cell_type": "markdown",
   "id": "b2a27246-c5ae-460f-bc5a-87f3d4d124e7",
   "metadata": {},
   "source": [
    "# Xpath Axes\n",
    "\n",
    "* Child\n",
    "* Parent\n",
    "* Following\n",
    "* Following Sibling\n",
    "* Preceding\n",
    "* Preceding Sibling\n",
    "* Ancestors\n",
    "* Descendants\n"
   ]
  },
  {
   "cell_type": "code",
   "execution_count": null,
   "id": "79f59687-6b58-4b83-9ff1-c96c221c9e5c",
   "metadata": {},
   "outputs": [],
   "source": [
    "<expression>/<axes>::<expression>\n",
    "\n",
    "#child\n",
    "$x(\"//span/child::select\")\n",
    "\n",
    "# parent\n",
    "$x(\"//select[@id='month']/parent::span\")\n",
    "\n",
    "# following\n",
    "$x(\"//input[@name='firstname']/following::select[@id='month']\")\n",
    "$x(\"//select[@id='day']/following::select[@id='month']\")\n",
    "\n",
    "# following-sibling\n",
    "$x(\"//select[@id='day']/following-sibling::select[1]\") ==> month\n",
    "$x(\"//select[@id='month']/following-sibling::select[1]\") ==> year\n",
    "\n",
    "# preceding sibling\n",
    "$x(\"//select[@id='year']/preceding-sibling::select[1]\") ==> month\n",
    "$x(\"//select[@id='year']/preceding-sibling::select[2]\") ==> day\n",
    "$x(\"//select[@id='year']/preceding-sibling::select[@id='month']\")\n",
    "$x(\"//select[@id='year']/preceding-sibling::select[starts-with(@id,'mo')]\")\n",
    "\n",
    "\n",
    "# preceding\n",
    "$x(\"//select[@id='year']/preceding::select[1]\") ==> month\n",
    "$x(\"//select[@id='year']/preceding::select[2]\") ==> day\n",
    "$x(\"//select[@id='year']/preceding::select[@id='month']\")\n",
    "$x(\"//select[@id='year']/preceding::select[starts-with(@id,'mo')]\")\n",
    "$x(\"//select[@id='year']/preceding::input[@name='firstname']\")\n",
    "\n",
    "# ancestor\n",
    "$x(\"//select[@id='day']/ancestor::span[@class='_5k_4']\")\n",
    "$x(\"//select[@id='day']/ancestor::form\")\n",
    "$x(\"//select[@id='day']/ancestor::form//label[text()='Male']\")\n",
    "\n",
    "# descendant\n",
    "$x(\"//form/descendant::select[@id='month']\")\n",
    "$x(\"//form/descendant::select[@id='month']\")\n",
    "$x(\"//div/descendant::select[@id='month']\")\n",
    "$x(\"//body/descendant::select[@id='month']\")\n",
    "$x(\"/html/descendant::select[@id='month']\")"
   ]
  }
 ],
 "metadata": {
  "kernelspec": {
   "display_name": "Python 3 (ipykernel)",
   "language": "python",
   "name": "python3"
  },
  "language_info": {
   "codemirror_mode": {
    "name": "ipython",
    "version": 3
   },
   "file_extension": ".py",
   "mimetype": "text/x-python",
   "name": "python",
   "nbconvert_exporter": "python",
   "pygments_lexer": "ipython3",
   "version": "3.10.0"
  }
 },
 "nbformat": 4,
 "nbformat_minor": 5
}
