{
 "cells": [
  {
   "cell_type": "markdown",
   "id": "f09695a6-9a29-4660-a491-6b6cff46839a",
   "metadata": {},
   "source": [
    "# Browser Commands"
   ]
  },
  {
   "cell_type": "code",
   "execution_count": 22,
   "id": "81ec0737-bfad-43dd-bba4-7cab262d2f05",
   "metadata": {},
   "outputs": [],
   "source": [
    "from selenium import webdriver\n",
    "from selenium.webdriver.common.by import By\n",
    "from selenium.webdriver.common.keys import Keys\n",
    "from selenium.webdriver import Chrome\n",
    "\n",
    "driver = Chrome()\n"
   ]
  },
  {
   "cell_type": "code",
   "execution_count": 23,
   "id": "d9621176-366f-4896-aec0-12b13ecf5cae",
   "metadata": {},
   "outputs": [],
   "source": [
    "# Get command\n",
    "driver.get(\"https://www.facebook.com\")"
   ]
  },
  {
   "cell_type": "code",
   "execution_count": null,
   "id": "ca928627-0fca-4b8e-a0ea-b6ed8ffd7663",
   "metadata": {},
   "outputs": [],
   "source": [
    "# Get Title\n",
    "title = driver.title\n",
    "print(title)"
   ]
  },
  {
   "cell_type": "code",
   "execution_count": null,
   "id": "83fc8aca-4f54-4ec1-bb14-16a6aa53b66c",
   "metadata": {},
   "outputs": [],
   "source": [
    "# Get URL\n",
    "url = driver.current_url\n",
    "print(url)"
   ]
  },
  {
   "cell_type": "code",
   "execution_count": null,
   "id": "7d7b5563-eb16-4949-8409-9c2a9fafd994",
   "metadata": {},
   "outputs": [],
   "source": [
    "# close the tab\n",
    "driver.close()"
   ]
  },
  {
   "cell_type": "code",
   "execution_count": 24,
   "id": "d3519a21-abad-4a35-b597-a6efa08aedb6",
   "metadata": {},
   "outputs": [],
   "source": [
    "# close the entire browser or quit the browser\n",
    "driver.quit()"
   ]
  },
  {
   "cell_type": "code",
   "execution_count": null,
   "id": "9aa4e962-776b-44ac-a3d7-587995ef322c",
   "metadata": {},
   "outputs": [],
   "source": []
  }
 ],
 "metadata": {
  "kernelspec": {
   "display_name": "Python 3 (ipykernel)",
   "language": "python",
   "name": "python3"
  },
  "language_info": {
   "codemirror_mode": {
    "name": "ipython",
    "version": 3
   },
   "file_extension": ".py",
   "mimetype": "text/x-python",
   "name": "python",
   "nbconvert_exporter": "python",
   "pygments_lexer": "ipython3",
   "version": "3.10.0"
  }
 },
 "nbformat": 4,
 "nbformat_minor": 5
}
