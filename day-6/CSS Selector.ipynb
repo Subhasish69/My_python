{
 "cells": [
  {
   "cell_type": "markdown",
   "id": "f8bfe595-70f9-4ea1-b80f-62a454ed256f",
   "metadata": {},
   "source": [
    "# CSS Selector"
   ]
  },
  {
   "cell_type": "code",
   "execution_count": null,
   "id": "71f96d9f-ab8a-43ba-aecf-791d12230f84",
   "metadata": {},
   "outputs": [],
   "source": [
    "Browser ==> $$(\"#email\")\n",
    "Converted expression ==> driver.find_element(By.CSS_SELECTOR, \"#email\").send_Keys(\"from css value\")"
   ]
  },
  {
   "cell_type": "markdown",
   "id": "fca0626d-0bb3-462c-8794-618e88843608",
   "metadata": {},
   "source": [
    "# CSS Attributes\n",
    "* id ==> '#'\n",
    "* class ==> '.'"
   ]
  },
  {
   "cell_type": "code",
   "execution_count": null,
   "id": "c5e36ca1-5ac8-436a-b08e-06879203dc94",
   "metadata": {},
   "outputs": [],
   "source": [
    "# id\n",
    "$$(\"#email\")\n",
    "\n",
    "# class\n",
    "$$(\".inputtext\")\n",
    "$$(\"._55r1\")\n",
    "$$(\"._6luy\")\n",
    "$$(\".inputtext._55r1\")\n",
    "$$(\"._55r1._6luy\")\n",
    "$$(\".inputtext._6luy\")\n",
    "$$(\".inputtext._55r1._6luy\")\n",
    "\n",
    "# id & class\n",
    "$$(\"#email.inputtext\")\n",
    "$$(\"#email._55r1\")\n",
    "$$(\"#email._6luy\")\n",
    "$$(\"#email.inputtext._55r1\")\n",
    "$$(\"#email._55r1._6luy\")\n",
    "$$(\"#email.inputtext._6luy\")\n",
    "$$(\"#email.inputtext._55r1._6luy\")\n",
    "$$(\".inputtext#email._55r1._6luy\")\n",
    "$$(\".inputtext._55r1#email._6luy\")\n",
    "$$(\".inputtext._55r1._6luy#email\")"
   ]
  },
  {
   "cell_type": "markdown",
   "id": "e3348604-cf73-4835-80d1-3c53a7523109",
   "metadata": {},
   "source": [
    "# CSS ==> HTML tagname & attributes"
   ]
  },
  {
   "cell_type": "code",
   "execution_count": null,
   "id": "af8650ee-7e89-4dbb-8eb7-95544c7e917e",
   "metadata": {},
   "outputs": [],
   "source": [
    "# html tagname\n",
    "$$(\"button\")\n",
    "\n",
    "# html & attributes\n",
    "$$(\"input[id='email']\")\n",
    "$$(\"input[name='email']\")\n",
    "$$(\"input[class='inputtext _55r1 _6luy']\")\n",
    "$$(\"input[data-testid='royal_email']\")"
   ]
  },
  {
   "cell_type": "markdown",
   "id": "eab02e5b-f5f8-48ee-b340-73d9b520bedd",
   "metadata": {},
   "source": [
    "# CSS attributes & HTML tagname + attributes"
   ]
  },
  {
   "cell_type": "code",
   "execution_count": null,
   "id": "8326ae80-6ca9-4606-bac8-9c389a602ada",
   "metadata": {},
   "outputs": [],
   "source": [
    "# html + attribute & css id attribute\n",
    "$$(\"input[id='email']#email\")\n",
    "\n",
    "# html + attribute & css class attribute\n",
    "$$(\"input[id='email'].inputtext\")\n",
    "$$(\"input[id='email']._55r1\")\n",
    "$$(\"input[id='email']._6luy\")\n",
    "$$(\"input[id='email'].inputtext._55r1\")\n",
    "$$(\"input[id='email']._55r1._6luy\")\n",
    "$$(\"input[id='email'].inputtext._6luy\")\n",
    "$$(\"input[id='email'].inputtext._55r1._6luy\")\n",
    "\n",
    "# html + attribute & css id+class attribute\n",
    "$$(\"input[id='email']#email.inputtext\")\n",
    "$$(\"input[id='email']#email._55r1._6luy\")\n",
    "$$(\"input[id='email']#email._6luy\")\n",
    "$$(\"input[id='email']#email.inputtext._55r1\")\n",
    "$$(\"input[id='email']#email.inputtext._6luy\")\n",
    "$$(\"input[id='email']#email._55r1._6luy\")\n",
    "$$(\"input[id='email']#email.inputtext._55r1._6luy\")\n",
    "\n",
    "$$(\"input[id='email'].inputtext#email._55r1._6luy\")\n",
    "$$(\"input[id='email'].inputtext._55r1#email._6luy\")\n",
    "$$(\"input[id='email'].inputtext._55r1._6luy#email\")\n",
    "$$(\"input[id='email']._55r1#email.inputtext._6luy\")\n",
    "$$(\"input[id='email']._55r1._6luy#email.inputtext\")"
   ]
  },
  {
   "cell_type": "markdown",
   "id": "286f29e8-0475-4305-b5bf-98d2132b3dcc",
   "metadata": {},
   "source": [
    "# CSS ==> html + attributes (regular expression at attributes level)\n",
    "* prefix ==> starts-with ==> '^'\n",
    "* suffix ==> ends-with ==> '$'\n",
    "* contains ==> substring ==> '*'"
   ]
  },
  {
   "cell_type": "code",
   "execution_count": null,
   "id": "8948bc9f-a1d6-48e8-b2ba-e3539f562bae",
   "metadata": {},
   "outputs": [],
   "source": [
    "# prefix\n",
    "$$(\"input[id^='email']\")\n",
    "$$(\"input[id^='emai']\")\n",
    "$$(\"input[id^='ema']\")\n",
    "$$(\"input[id^='em']\")\n",
    "$$(\"input[id^='e']\")\n",
    "\n",
    "# suffix\n",
    "$$(\"input[id$='email']\")\n",
    "$$(\"input[id$='mail']\")\n",
    "$$(\"input[id$='ail']\")\n",
    "$$(\"input[id$='il']\")\n",
    "$$(\"input[id$='l']\")\n",
    "\n",
    "# substring or contains\n",
    "$$(\"input[id*='email']\")\n",
    "$$(\"input[id*='emai']\")\n",
    "$$(\"input[id*='ema']\")\n",
    "$$(\"input[id*='em']\")\n",
    "$$(\"input[id*='e']\")\n",
    "\n",
    "$$(\"input[id*='mail']\")\n",
    "$$(\"input[id*='ail']\")\n",
    "$$(\"input[id*='il']\")\n",
    "$$(\"input[id*='l']\")\n",
    "\n",
    "$$(\"input[id*='mai']\")\n",
    "$$(\"input[id*='ai']\")\n",
    "$$(\"input[id*='ma']\")\n",
    "$$(\"input[id*='i']\")\n",
    "$$(\"input[id*='m']\")"
   ]
  }
 ],
 "metadata": {
  "kernelspec": {
   "display_name": "Python 3 (ipykernel)",
   "language": "python",
   "name": "python3"
  },
  "language_info": {
   "codemirror_mode": {
    "name": "ipython",
    "version": 3
   },
   "file_extension": ".py",
   "mimetype": "text/x-python",
   "name": "python",
   "nbconvert_exporter": "python",
   "pygments_lexer": "ipython3",
   "version": "3.10.0"
  }
 },
 "nbformat": 4,
 "nbformat_minor": 5
}
