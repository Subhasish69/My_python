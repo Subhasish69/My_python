{
 "cells": [
  {
   "cell_type": "markdown",
   "id": "3bcddeed-8a3b-4266-a8eb-67596ff89586",
   "metadata": {},
   "source": [
    "# Numbers"
   ]
  },
  {
   "cell_type": "code",
   "execution_count": 28,
   "id": "be3c8e8b-da0c-4b85-af78-1c9b99bd9041",
   "metadata": {},
   "outputs": [
    {
     "data": {
      "text/plain": [
       "4"
      ]
     },
     "execution_count": 28,
     "metadata": {},
     "output_type": "execute_result"
    }
   ],
   "source": [
    "2 + 2"
   ]
  },
  {
   "cell_type": "code",
   "execution_count": 29,
   "id": "0c0e750c-1065-4047-a315-1cf0a0ef5789",
   "metadata": {},
   "outputs": [
    {
     "data": {
      "text/plain": [
       "4"
      ]
     },
     "execution_count": 29,
     "metadata": {},
     "output_type": "execute_result"
    }
   ],
   "source": [
    "sum = 2+2\n",
    "sum"
   ]
  },
  {
   "cell_type": "markdown",
   "id": "42c16041-1897-480e-879f-af4ffa594530",
   "metadata": {},
   "source": [
    "# Strings"
   ]
  },
  {
   "cell_type": "code",
   "execution_count": 30,
   "id": "1d612c75-86df-463c-81e9-19bca421c7cb",
   "metadata": {},
   "outputs": [
    {
     "data": {
      "text/plain": [
       "'spam eggs'"
      ]
     },
     "execution_count": 30,
     "metadata": {},
     "output_type": "execute_result"
    }
   ],
   "source": [
    "'spam eggs'"
   ]
  },
  {
   "cell_type": "code",
   "execution_count": 32,
   "id": "452fce45-73b4-40df-8476-e4942b3a9419",
   "metadata": {},
   "outputs": [],
   "source": [
    "name = 'Dan'\n"
   ]
  },
  {
   "cell_type": "code",
   "execution_count": 33,
   "id": "e2262849-5f48-4736-bb9e-f062932f8d94",
   "metadata": {},
   "outputs": [
    {
     "data": {
      "text/plain": [
       "'Dan'"
      ]
     },
     "execution_count": 33,
     "metadata": {},
     "output_type": "execute_result"
    }
   ],
   "source": [
    "name"
   ]
  },
  {
   "cell_type": "code",
   "execution_count": 34,
   "id": "9a56fb93-79a4-4732-91b5-51372659e8ae",
   "metadata": {},
   "outputs": [
    {
     "name": "stdout",
     "output_type": "stream",
     "text": [
      "Dan\n"
     ]
    }
   ],
   "source": [
    "print(name)"
   ]
  },
  {
   "cell_type": "markdown",
   "id": "fb9ea2b9-9a06-4dbe-86e2-3a2bba60b425",
   "metadata": {},
   "source": [
    "# Tuple"
   ]
  },
  {
   "cell_type": "code",
   "execution_count": 35,
   "id": "eb8d3f11-0fc7-4722-b638-bc8dc01ed848",
   "metadata": {},
   "outputs": [],
   "source": [
    "names = ('dan', 'elaine')"
   ]
  },
  {
   "cell_type": "code",
   "execution_count": 36,
   "id": "495db14b-ceb5-466d-b4f5-67e08db2f31d",
   "metadata": {},
   "outputs": [
    {
     "name": "stdout",
     "output_type": "stream",
     "text": [
      "('dan', 'elaine')\n"
     ]
    }
   ],
   "source": [
    "print(names)"
   ]
  },
  {
   "cell_type": "code",
   "execution_count": 37,
   "id": "1acc82d5-1e03-43fb-921f-dab37561eb0e",
   "metadata": {},
   "outputs": [
    {
     "data": {
      "text/plain": [
       "tuple"
      ]
     },
     "execution_count": 37,
     "metadata": {},
     "output_type": "execute_result"
    }
   ],
   "source": [
    "type(names)"
   ]
  },
  {
   "cell_type": "markdown",
   "id": "19d5caa7-b16c-438c-b9f9-484ef1ab2161",
   "metadata": {},
   "source": [
    "# List"
   ]
  },
  {
   "cell_type": "code",
   "execution_count": 38,
   "id": "06b927c1-594c-4326-b1dc-dbbbadb49c09",
   "metadata": {},
   "outputs": [],
   "source": [
    "names = ['dan', 'elaine']"
   ]
  },
  {
   "cell_type": "code",
   "execution_count": 39,
   "id": "7aec6b46-1ca9-4642-8d59-84d3e82b0bdd",
   "metadata": {},
   "outputs": [
    {
     "name": "stdout",
     "output_type": "stream",
     "text": [
      "['dan', 'elaine']\n"
     ]
    },
    {
     "data": {
      "text/plain": [
       "list"
      ]
     },
     "execution_count": 39,
     "metadata": {},
     "output_type": "execute_result"
    }
   ],
   "source": [
    "print(names)\n",
    "type(names)"
   ]
  },
  {
   "cell_type": "markdown",
   "id": "95fb0072-a7ee-4aef-85ae-07c7bdef138a",
   "metadata": {},
   "source": [
    "# Dictionary"
   ]
  },
  {
   "cell_type": "code",
   "execution_count": 40,
   "id": "de035df3-288d-4938-824d-92c72ce78e52",
   "metadata": {},
   "outputs": [],
   "source": [
    "john = {'firstname':'John', 'lastname':'Rambo', 'email':'rambo@gmail.com'}"
   ]
  },
  {
   "cell_type": "code",
   "execution_count": 41,
   "id": "a2433457-6593-4c83-bdfb-f093da79b615",
   "metadata": {},
   "outputs": [
    {
     "name": "stdout",
     "output_type": "stream",
     "text": [
      "{'firstname': 'John', 'lastname': 'Rambo', 'email': 'rambo@gmail.com'}\n"
     ]
    }
   ],
   "source": [
    "print(john)"
   ]
  },
  {
   "cell_type": "code",
   "execution_count": 42,
   "id": "b1da0fdd-9b7b-4dbd-b63c-607da168d3bc",
   "metadata": {},
   "outputs": [
    {
     "data": {
      "text/plain": [
       "dict"
      ]
     },
     "execution_count": 42,
     "metadata": {},
     "output_type": "execute_result"
    }
   ],
   "source": [
    "type(john)"
   ]
  },
  {
   "cell_type": "code",
   "execution_count": null,
   "id": "28d004b7-c3e7-45b2-8109-29a44e51ee22",
   "metadata": {},
   "outputs": [],
   "source": []
  }
 ],
 "metadata": {
  "kernelspec": {
   "display_name": "Python 3 (ipykernel)",
   "language": "python",
   "name": "python3"
  },
  "language_info": {
   "codemirror_mode": {
    "name": "ipython",
    "version": 3
   },
   "file_extension": ".py",
   "mimetype": "text/x-python",
   "name": "python",
   "nbconvert_exporter": "python",
   "pygments_lexer": "ipython3",
   "version": "3.10.0"
  }
 },
 "nbformat": 4,
 "nbformat_minor": 5
}
