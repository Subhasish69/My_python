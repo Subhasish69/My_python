{
 "cells": [
  {
   "cell_type": "markdown",
   "id": "d2727cd7-8eee-4d4d-a463-74be0730a4e8",
   "metadata": {},
   "source": [
    "# Arithmetic"
   ]
  },
  {
   "cell_type": "code",
   "execution_count": 8,
   "id": "4e49f49c-9796-44d0-8b63-bbcddeddf559",
   "metadata": {},
   "outputs": [
    {
     "data": {
      "text/plain": [
       "3"
      ]
     },
     "execution_count": 8,
     "metadata": {},
     "output_type": "execute_result"
    }
   ],
   "source": [
    "a = 10\n",
    "b = 3\n",
    "\n",
    "# a+b\n",
    "# a-b\n",
    "# a*b\n",
    "# a/b\n",
    "# a%b\n",
    "# a**b\n",
    "# a//b"
   ]
  },
  {
   "cell_type": "code",
   "execution_count": 9,
   "id": "8ac9f819-a78d-4a55-8f9c-889604dab77d",
   "metadata": {},
   "outputs": [
    {
     "name": "stdout",
     "output_type": "stream",
     "text": [
      "3.3333333333333335\n",
      "3\n"
     ]
    }
   ],
   "source": [
    "print(a/b)\n",
    "print(a//b)"
   ]
  },
  {
   "cell_type": "markdown",
   "id": "30906e6b-8cbb-4aa8-ae91-40089c5b4ade",
   "metadata": {},
   "source": [
    "# Comparision"
   ]
  },
  {
   "cell_type": "code",
   "execution_count": 16,
   "id": "8bf90053-6060-4719-b463-1d5d397d04cd",
   "metadata": {},
   "outputs": [
    {
     "name": "stdout",
     "output_type": "stream",
     "text": [
      "True\n",
      "False\n"
     ]
    }
   ],
   "source": [
    "a = 10\n",
    "b = 5\n",
    "\n",
    "# print(a==b)\n",
    "# print(a!=b)\n",
    "# print(a<>b) //not supported nowadays\n",
    "# print(a>b)\n",
    "# print(a<b)\n",
    "# print(a>=b)\n",
    "# print(a<=b)"
   ]
  },
  {
   "cell_type": "markdown",
   "id": "bb9bf5d1-9fb3-4723-927d-1bd4091fb118",
   "metadata": {},
   "source": [
    "# Assignment"
   ]
  },
  {
   "cell_type": "code",
   "execution_count": 22,
   "id": "29a02060-31db-4df1-8ba0-93817a1f79a5",
   "metadata": {},
   "outputs": [
    {
     "name": "stdout",
     "output_type": "stream",
     "text": [
      "5\n"
     ]
    }
   ],
   "source": [
    "a = 5\n",
    "print(a)"
   ]
  },
  {
   "cell_type": "code",
   "execution_count": 23,
   "id": "31ae76b0-c62a-40c3-adff-9a6c0ef023d2",
   "metadata": {},
   "outputs": [
    {
     "name": "stdout",
     "output_type": "stream",
     "text": [
      "6\n"
     ]
    }
   ],
   "source": [
    "a = 5\n",
    "a = a+1\n",
    "print(a)"
   ]
  },
  {
   "cell_type": "code",
   "execution_count": 25,
   "id": "fda72015-cd7a-471a-8b10-cd2ec5030a8e",
   "metadata": {},
   "outputs": [
    {
     "ename": "SyntaxError",
     "evalue": "invalid syntax (Temp/ipykernel_1528/2923510792.py, line 2)",
     "output_type": "error",
     "traceback": [
      "\u001b[1;36m  File \u001b[1;32m\"C:\\Users\\Ramesh\\AppData\\Local\\Temp/ipykernel_1528/2923510792.py\"\u001b[1;36m, line \u001b[1;32m2\u001b[0m\n\u001b[1;33m    a = a++\u001b[0m\n\u001b[1;37m           ^\u001b[0m\n\u001b[1;31mSyntaxError\u001b[0m\u001b[1;31m:\u001b[0m invalid syntax\n"
     ]
    }
   ],
   "source": [
    "a = 5\n",
    "a = a++\n",
    "print(a)"
   ]
  },
  {
   "cell_type": "code",
   "execution_count": 27,
   "id": "b33c0526-27a0-4169-8801-fa114505d4fe",
   "metadata": {},
   "outputs": [
    {
     "name": "stdout",
     "output_type": "stream",
     "text": [
      "10\n"
     ]
    }
   ],
   "source": [
    "a = 5\n",
    "a += 5\n",
    "print(a)\n",
    "\n",
    "#other operation ==> -=, *=, /=, %=, **=, //="
   ]
  },
  {
   "cell_type": "markdown",
   "id": "a6fe697d-05df-47d8-8dc9-2af446481d25",
   "metadata": {},
   "source": [
    "# Logical"
   ]
  },
  {
   "cell_type": "code",
   "execution_count": 33,
   "id": "a32ff9b0-4154-470a-88e8-78ebf5d4722f",
   "metadata": {},
   "outputs": [
    {
     "name": "stdout",
     "output_type": "stream",
     "text": [
      "False\n",
      "True\n",
      "False\n"
     ]
    }
   ],
   "source": [
    "a = True\n",
    "b = False\n",
    "\n",
    "print(a and b)\n",
    "print(a or b)\n",
    "print(not(a))"
   ]
  },
  {
   "cell_type": "markdown",
   "id": "edba8550-8016-43f1-86b1-49d9a89374ea",
   "metadata": {},
   "source": [
    "# Membership"
   ]
  },
  {
   "cell_type": "code",
   "execution_count": 35,
   "id": "7819ca46-f716-400d-a6af-5b97885b9772",
   "metadata": {},
   "outputs": [
    {
     "name": "stdout",
     "output_type": "stream",
     "text": [
      "False\n"
     ]
    }
   ],
   "source": [
    "var = {'a', 'b', 'c'}\n",
    "print('a' in var)\n",
    "print('x' in var)"
   ]
  },
  {
   "cell_type": "code",
   "execution_count": 38,
   "id": "3296fb18-ffbb-4a6d-8ecd-6516078c214c",
   "metadata": {},
   "outputs": [
    {
     "name": "stdout",
     "output_type": "stream",
     "text": [
      "False\n",
      "True\n"
     ]
    }
   ],
   "source": [
    "var = {'a', 'b', 'c'}\n",
    "print('a' not in var)\n",
    "print('x' not in var)"
   ]
  },
  {
   "cell_type": "markdown",
   "id": "143e3e3c-7f58-4cb3-982f-3c620ba302da",
   "metadata": {},
   "source": [
    "# Identity"
   ]
  },
  {
   "cell_type": "code",
   "execution_count": 42,
   "id": "51b1aa9c-11c3-48fb-90b4-f0264b9ef569",
   "metadata": {},
   "outputs": [
    {
     "name": "stdout",
     "output_type": "stream",
     "text": [
      "True\n",
      "False\n"
     ]
    }
   ],
   "source": [
    "a = 5\n",
    "b = 5\n",
    "\n",
    "print(a is b)\n",
    "print(a is not b)"
   ]
  },
  {
   "cell_type": "code",
   "execution_count": 45,
   "id": "a1a1e983-771e-4f69-a621-7ba3a6146db5",
   "metadata": {},
   "outputs": [
    {
     "name": "stdout",
     "output_type": "stream",
     "text": [
      "9\n",
      "1\n"
     ]
    }
   ],
   "source": [
    "var = [2, 4, 1, 6, 8, 9, 7]\n",
    "print(max(var))\n",
    "print(min(var))"
   ]
  },
  {
   "cell_type": "code",
   "execution_count": 46,
   "id": "f1c397a2-00ea-4634-ae0a-630c3c44c80b",
   "metadata": {},
   "outputs": [
    {
     "data": {
      "text/plain": [
       "8"
      ]
     },
     "execution_count": 46,
     "metadata": {},
     "output_type": "execute_result"
    }
   ],
   "source": [
    "pow(2,3)"
   ]
  },
  {
   "cell_type": "code",
   "execution_count": 49,
   "id": "b22257c2-bc51-4e9b-8ef2-22829d5b1662",
   "metadata": {},
   "outputs": [
    {
     "data": {
      "text/plain": [
       "(0.0, 9.0)"
      ]
     },
     "execution_count": 49,
     "metadata": {},
     "output_type": "execute_result"
    }
   ],
   "source": [
    "import math\n",
    "math.modf(9)"
   ]
  },
  {
   "cell_type": "code",
   "execution_count": null,
   "id": "fd98783d-494e-4221-afe9-9cba3518092b",
   "metadata": {},
   "outputs": [],
   "source": []
  }
 ],
 "metadata": {
  "kernelspec": {
   "display_name": "Python 3 (ipykernel)",
   "language": "python",
   "name": "python3"
  },
  "language_info": {
   "codemirror_mode": {
    "name": "ipython",
    "version": 3
   },
   "file_extension": ".py",
   "mimetype": "text/x-python",
   "name": "python",
   "nbconvert_exporter": "python",
   "pygments_lexer": "ipython3",
   "version": "3.10.0"
  }
 },
 "nbformat": 4,
 "nbformat_minor": 5
}
