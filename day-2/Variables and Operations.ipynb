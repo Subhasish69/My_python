{
 "cells": [
  {
   "cell_type": "markdown",
   "id": "1fb82058-55f7-4082-97dd-fd3129dda175",
   "metadata": {},
   "source": [
    "# Numbers"
   ]
  },
  {
   "cell_type": "code",
   "execution_count": 1,
   "id": "cec9afd2-9c37-462f-ab8e-76c6267d9b2a",
   "metadata": {},
   "outputs": [
    {
     "data": {
      "text/plain": [
       "int"
      ]
     },
     "execution_count": 1,
     "metadata": {},
     "output_type": "execute_result"
    }
   ],
   "source": [
    "a = 25\n",
    "type(a)"
   ]
  },
  {
   "cell_type": "code",
   "execution_count": 2,
   "id": "14139c23-18c1-4276-ac51-c731fbc9499b",
   "metadata": {},
   "outputs": [
    {
     "data": {
      "text/plain": [
       "float"
      ]
     },
     "execution_count": 2,
     "metadata": {},
     "output_type": "execute_result"
    }
   ],
   "source": [
    "a = 25.2\n",
    "type(a)"
   ]
  },
  {
   "cell_type": "markdown",
   "id": "9c365fee-88a3-4fda-8759-90e80ac98251",
   "metadata": {},
   "source": [
    "# Strings"
   ]
  },
  {
   "cell_type": "code",
   "execution_count": 27,
   "id": "ec05aeb0-287e-4dae-8a23-361fa91c01ae",
   "metadata": {},
   "outputs": [],
   "source": [
    "name = 'Elaine'"
   ]
  },
  {
   "cell_type": "code",
   "execution_count": 4,
   "id": "2103f542-47bb-4e71-9eed-0611b6ecaad1",
   "metadata": {},
   "outputs": [
    {
     "data": {
      "text/plain": [
       "str"
      ]
     },
     "execution_count": 4,
     "metadata": {},
     "output_type": "execute_result"
    }
   ],
   "source": [
    "type(name)"
   ]
  },
  {
   "cell_type": "code",
   "execution_count": 19,
   "id": "99983466-ca5e-4ce8-854d-32ffda488d07",
   "metadata": {},
   "outputs": [
    {
     "data": {
      "text/plain": [
       "'n'"
      ]
     },
     "execution_count": 19,
     "metadata": {},
     "output_type": "execute_result"
    }
   ],
   "source": [
    "# name\n",
    "# name[1]\n",
    "name[4]"
   ]
  },
  {
   "cell_type": "code",
   "execution_count": 36,
   "id": "408a77cf-8e43-4722-b879-b0f34862d148",
   "metadata": {},
   "outputs": [
    {
     "name": "stdout",
     "output_type": "stream",
     "text": [
      "ine\n",
      "in\n",
      "Elai\n"
     ]
    }
   ],
   "source": [
    "# print(name)\n",
    "# print(name[4])\n",
    "# print(name[:2])\n",
    "# print(name[2:])\n",
    "# print(name[4:])\n",
    "# print(name[3:])\n",
    "# print(name[3:-1])\n",
    "# print(name[:-2])"
   ]
  },
  {
   "cell_type": "markdown",
   "id": "b93d156e-b82c-40c5-bc3d-a6500254433a",
   "metadata": {},
   "source": [
    "# List"
   ]
  },
  {
   "cell_type": "code",
   "execution_count": 47,
   "id": "ae73cfca-7268-423c-b737-19d204252791",
   "metadata": {},
   "outputs": [
    {
     "name": "stdout",
     "output_type": "stream",
     "text": [
      "['zoe']\n"
     ]
    }
   ],
   "source": [
    "names = ['dan', 'elaine', 'zoe', 'obama']\n",
    "\n",
    "# print(names)\n",
    "# print(names[1:])\n",
    "# print(names[:-1])\n",
    "# print(names[1:-1])\n",
    "# print(names[2:3])\n",
    "# print(names[1:-1])\n"
   ]
  },
  {
   "cell_type": "code",
   "execution_count": 50,
   "id": "e44114a3-b997-4d26-aae1-96253dbaa531",
   "metadata": {},
   "outputs": [
    {
     "name": "stdout",
     "output_type": "stream",
     "text": [
      "dan\n",
      "elaine\n",
      "zoe\n",
      "obama\n"
     ]
    }
   ],
   "source": [
    "for i in names:\n",
    "    print(i)"
   ]
  },
  {
   "cell_type": "markdown",
   "id": "92059c1d-b241-4715-a412-0dcb30d1413a",
   "metadata": {},
   "source": [
    "# Tuple"
   ]
  },
  {
   "cell_type": "code",
   "execution_count": 52,
   "id": "118d55ed-8f47-4ece-94ab-bcb9ebbee949",
   "metadata": {},
   "outputs": [
    {
     "name": "stdout",
     "output_type": "stream",
     "text": [
      "('dan', 'elaine', 'zoe', 'obama')\n",
      "('elaine', 'zoe', 'obama')\n",
      "('dan', 'elaine', 'zoe')\n",
      "('elaine', 'zoe')\n",
      "('zoe',)\n",
      "('elaine', 'zoe')\n"
     ]
    }
   ],
   "source": [
    "names = ('dan', 'elaine', 'zoe', 'obama')\n",
    "\n",
    "print(names)\n",
    "print(names[1:])\n",
    "print(names[:-1])\n",
    "print(names[1:-1])\n",
    "print(names[2:3])\n",
    "print(names[1:-1])\n"
   ]
  },
  {
   "cell_type": "markdown",
   "id": "c501bd8f-27ee-476e-92ee-c0bd6011c114",
   "metadata": {},
   "source": [
    "# Set"
   ]
  },
  {
   "cell_type": "code",
   "execution_count": 55,
   "id": "f475c617-9c33-4e8e-aa49-3bcb0d63abf4",
   "metadata": {},
   "outputs": [
    {
     "ename": "TypeError",
     "evalue": "'set' object is not subscriptable",
     "output_type": "error",
     "traceback": [
      "\u001b[1;31m---------------------------------------------------------------------------\u001b[0m",
      "\u001b[1;31mTypeError\u001b[0m                                 Traceback (most recent call last)",
      "\u001b[1;32m~\\AppData\\Local\\Temp/ipykernel_18424/139133695.py\u001b[0m in \u001b[0;36m<module>\u001b[1;34m\u001b[0m\n\u001b[0;32m      4\u001b[0m \u001b[1;31m# print(names[1:])\u001b[0m\u001b[1;33m\u001b[0m\u001b[1;33m\u001b[0m\u001b[0m\n\u001b[0;32m      5\u001b[0m \u001b[1;31m# print(names[:-1])\u001b[0m\u001b[1;33m\u001b[0m\u001b[1;33m\u001b[0m\u001b[0m\n\u001b[1;32m----> 6\u001b[1;33m \u001b[0mprint\u001b[0m\u001b[1;33m(\u001b[0m\u001b[0mnames\u001b[0m\u001b[1;33m[\u001b[0m\u001b[1;36m1\u001b[0m\u001b[1;33m:\u001b[0m\u001b[1;33m-\u001b[0m\u001b[1;36m1\u001b[0m\u001b[1;33m]\u001b[0m\u001b[1;33m)\u001b[0m\u001b[1;33m\u001b[0m\u001b[1;33m\u001b[0m\u001b[0m\n\u001b[0m\u001b[0;32m      7\u001b[0m \u001b[1;31m# print(names[2:3])\u001b[0m\u001b[1;33m\u001b[0m\u001b[1;33m\u001b[0m\u001b[0m\n\u001b[0;32m      8\u001b[0m \u001b[1;31m# print(names[1:-1])\u001b[0m\u001b[1;33m\u001b[0m\u001b[1;33m\u001b[0m\u001b[0m\n",
      "\u001b[1;31mTypeError\u001b[0m: 'set' object is not subscriptable"
     ]
    }
   ],
   "source": [
    "# in set, slicing operations cannot be done\n",
    "\n",
    "names = {'dan', 'elaine', 'zoe', 'obama'}\n",
    "\n",
    "# print(names)\n",
    "# print(names[1:])\n",
    "# print(names[:-1])\n",
    "print(names[1:-1])\n",
    "# print(names[2:3])\n",
    "# print(names[1:-1])\n"
   ]
  },
  {
   "cell_type": "markdown",
   "id": "73075749-db86-4078-95ce-0ca3a3deb3f5",
   "metadata": {},
   "source": [
    "# Dictionary"
   ]
  },
  {
   "cell_type": "code",
   "execution_count": 65,
   "id": "e6b0a5e6-7123-4bec-a47f-9296a34cf011",
   "metadata": {},
   "outputs": [
    {
     "name": "stdout",
     "output_type": "stream",
     "text": [
      "{'fn': 'DAN', 'ln': 'Rock', 'mobile': '123456', 'email': 'dan@gmail.com'}\n",
      "DAN\n",
      "dict_keys(['fn', 'ln', 'mobile', 'email'])\n",
      "dict_values(['DAN', 'Rock', '123456', 'dan@gmail.com'])\n"
     ]
    }
   ],
   "source": [
    "dan = {'fn':'DAN', 'ln':'Rock', 'mobile':'123456', 'email':'dan@gmail.com'}\n",
    "\n",
    "print(dan)\n",
    "print(dan['fn'])\n",
    "# print(dan[2])\n",
    "print(dan.keys())\n",
    "print(dan.values())"
   ]
  },
  {
   "cell_type": "markdown",
   "id": "54aa64e3-1de2-4a5f-a85b-85e3e51dc014",
   "metadata": {},
   "source": [
    "# Data Type Conversion"
   ]
  },
  {
   "cell_type": "code",
   "execution_count": 67,
   "id": "0589423a-6820-4276-9c4f-cd21f637d627",
   "metadata": {},
   "outputs": [
    {
     "name": "stdout",
     "output_type": "stream",
     "text": [
      "5\n",
      "5.0\n"
     ]
    }
   ],
   "source": [
    "a = 5\n",
    "print(a)\n",
    "print(float(a))"
   ]
  },
  {
   "cell_type": "code",
   "execution_count": 68,
   "id": "861145e4-a30b-461f-b170-a8a381756837",
   "metadata": {},
   "outputs": [
    {
     "data": {
      "text/plain": [
       "89.0"
      ]
     },
     "execution_count": 68,
     "metadata": {},
     "output_type": "execute_result"
    }
   ],
   "source": [
    "float(89)"
   ]
  },
  {
   "cell_type": "code",
   "execution_count": 69,
   "id": "147e624c-a8ac-473d-abe4-beda26585ba8",
   "metadata": {},
   "outputs": [
    {
     "data": {
      "text/plain": [
       "'1'"
      ]
     },
     "execution_count": 69,
     "metadata": {},
     "output_type": "execute_result"
    }
   ],
   "source": [
    "str(1)"
   ]
  },
  {
   "cell_type": "code",
   "execution_count": 70,
   "id": "ed53c526-b92a-4c78-a044-aac0d7cd1e13",
   "metadata": {},
   "outputs": [
    {
     "data": {
      "text/plain": [
       "('r', 'a', 'm', 'e', 's', 'h')"
      ]
     },
     "execution_count": 70,
     "metadata": {},
     "output_type": "execute_result"
    }
   ],
   "source": [
    "tuple('ramesh')"
   ]
  },
  {
   "cell_type": "code",
   "execution_count": 76,
   "id": "9762ae89-22a1-4f2b-87b4-c75ed879339a",
   "metadata": {},
   "outputs": [],
   "source": [
    "names = ('dan', 'elaine', 'suresh', 'zoe')\n",
    "var = list(names)\n",
    "type(var)"
   ]
  },
  {
   "cell_type": "code",
   "execution_count": 78,
   "id": "1ae066d3-af4f-4a85-b9b6-79c5347a8608",
   "metadata": {},
   "outputs": [
    {
     "data": {
      "text/plain": [
       "['r', 'a', 'm', 'e', 's', 'h']"
      ]
     },
     "execution_count": 78,
     "metadata": {},
     "output_type": "execute_result"
    }
   ],
   "source": [
    "list('ramesh')"
   ]
  },
  {
   "cell_type": "code",
   "execution_count": 79,
   "id": "e8109933-aba5-4e8b-9c07-668f437008c0",
   "metadata": {},
   "outputs": [
    {
     "data": {
      "text/plain": [
       "{'a', 'e', 'h', 'm', 'r', 's'}"
      ]
     },
     "execution_count": 79,
     "metadata": {},
     "output_type": "execute_result"
    }
   ],
   "source": [
    "set('ramesh')"
   ]
  },
  {
   "cell_type": "code",
   "execution_count": 82,
   "id": "4bf09a6a-3e6f-4c28-aac7-f32b43452bd1",
   "metadata": {},
   "outputs": [
    {
     "data": {
      "text/plain": [
       "{'fn': 'dan'}"
      ]
     },
     "execution_count": 82,
     "metadata": {},
     "output_type": "execute_result"
    }
   ],
   "source": [
    "f={'fn':'dan'}\n",
    "dict(f)"
   ]
  },
  {
   "cell_type": "code",
   "execution_count": 83,
   "id": "f9a95a05-b2b8-4cbf-9904-032f6e1d7e50",
   "metadata": {},
   "outputs": [
    {
     "data": {
      "text/plain": [
       "'0x22'"
      ]
     },
     "execution_count": 83,
     "metadata": {},
     "output_type": "execute_result"
    }
   ],
   "source": [
    "hex(34)"
   ]
  },
  {
   "cell_type": "code",
   "execution_count": 84,
   "id": "08a650d2-6d0f-434c-82dc-4f3ccad455b4",
   "metadata": {},
   "outputs": [
    {
     "data": {
      "text/plain": [
       "'0o31'"
      ]
     },
     "execution_count": 84,
     "metadata": {},
     "output_type": "execute_result"
    }
   ],
   "source": [
    "oct(25)"
   ]
  },
  {
   "cell_type": "code",
   "execution_count": 85,
   "id": "eb4eb85b-95f8-4611-91e5-58a4ce987661",
   "metadata": {},
   "outputs": [
    {
     "data": {
      "text/plain": [
       "'\\x02'"
      ]
     },
     "execution_count": 85,
     "metadata": {},
     "output_type": "execute_result"
    }
   ],
   "source": [
    "chr(2)"
   ]
  },
  {
   "cell_type": "code",
   "execution_count": 87,
   "id": "17d05e63-3dd2-4551-a9af-788c3fd72078",
   "metadata": {},
   "outputs": [
    {
     "data": {
      "text/plain": [
       "{'fn': 'john', 'ln': 'rambo', 'mobile': '123'}"
      ]
     },
     "execution_count": 87,
     "metadata": {},
     "output_type": "execute_result"
    }
   ],
   "source": [
    "dict(fn='john', ln='rambo', mobile='123')"
   ]
  },
  {
   "cell_type": "code",
   "execution_count": null,
   "id": "55ccb386-b247-4e49-8422-7a5a899e96b4",
   "metadata": {},
   "outputs": [],
   "source": []
  }
 ],
 "metadata": {
  "kernelspec": {
   "display_name": "Python 3 (ipykernel)",
   "language": "python",
   "name": "python3"
  },
  "language_info": {
   "codemirror_mode": {
    "name": "ipython",
    "version": 3
   },
   "file_extension": ".py",
   "mimetype": "text/x-python",
   "name": "python",
   "nbconvert_exporter": "python",
   "pygments_lexer": "ipython3",
   "version": "3.10.0"
  }
 },
 "nbformat": 4,
 "nbformat_minor": 5
}
