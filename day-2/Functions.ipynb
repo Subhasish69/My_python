{
 "cells": [
  {
   "cell_type": "markdown",
   "id": "fa70c845-f010-40a1-8cbb-7c39a9712075",
   "metadata": {},
   "source": [
    "# Functions"
   ]
  },
  {
   "cell_type": "markdown",
   "id": "de3b210b-1e02-4d08-90da-8269bb9a96d6",
   "metadata": {},
   "source": [
    "## function without arguments and without return type"
   ]
  },
  {
   "cell_type": "code",
   "execution_count": 7,
   "id": "4ab2eed0-da4f-4ef0-832b-d17a053f204b",
   "metadata": {},
   "outputs": [
    {
     "name": "stdout",
     "output_type": "stream",
     "text": [
      "15\n"
     ]
    }
   ],
   "source": [
    "def add():\n",
    "    a = 5;\n",
    "    b = 10;\n",
    "    result = a + b\n",
    "    print(result)\n",
    "    \n",
    "add()"
   ]
  },
  {
   "cell_type": "markdown",
   "id": "cb0c5df5-ed18-4c6f-93df-2d63859f0dea",
   "metadata": {},
   "source": [
    "## function with arguments and without return type"
   ]
  },
  {
   "cell_type": "code",
   "execution_count": 8,
   "id": "a4f40a4b-9947-46a5-b0f3-330620340d9e",
   "metadata": {},
   "outputs": [
    {
     "name": "stdout",
     "output_type": "stream",
     "text": [
      "35\n"
     ]
    }
   ],
   "source": [
    "def add(a, b):\n",
    "    result = a + b\n",
    "    print(result)\n",
    "    \n",
    "add(10, 25)"
   ]
  },
  {
   "cell_type": "markdown",
   "id": "8e7d0ced-528f-4cdf-9579-8d9c5afc900a",
   "metadata": {},
   "source": [
    "## function with arguments and with return type\n"
   ]
  },
  {
   "cell_type": "code",
   "execution_count": 12,
   "id": "7a25f6e2-f2e8-44c7-9402-c3d87754e9d5",
   "metadata": {},
   "outputs": [
    {
     "name": "stdout",
     "output_type": "stream",
     "text": [
      "25\n"
     ]
    }
   ],
   "source": [
    "def add(a, b):    \n",
    "    result = a + b\n",
    "    return result\n",
    "\n",
    "def add(a, b):    \n",
    "    return a+b\n",
    "    \n",
    "result = add(10, 15)\n",
    "print(result)"
   ]
  },
  {
   "cell_type": "code",
   "execution_count": null,
   "id": "084c557a-a745-409c-8834-62784b579520",
   "metadata": {},
   "outputs": [],
   "source": [
    "## function without arguments and withreturn type\n"
   ]
  },
  {
   "cell_type": "code",
   "execution_count": 16,
   "id": "69c49149-a574-44b6-8e4e-d6ccda79b1b9",
   "metadata": {},
   "outputs": [
    {
     "name": "stdout",
     "output_type": "stream",
     "text": [
      "2021\n"
     ]
    }
   ],
   "source": [
    "def current_year():\n",
    "    return 2021\n",
    "\n",
    "year = current_year()\n",
    "print(year)"
   ]
  },
  {
   "cell_type": "code",
   "execution_count": 24,
   "id": "7900ae78-1188-41d8-864d-62d66b1d53b5",
   "metadata": {},
   "outputs": [
    {
     "name": "stdout",
     "output_type": "stream",
     "text": [
      "['dan', 'zoe', 'obama']\n",
      "dan\n",
      "zoe\n",
      "obama\n"
     ]
    }
   ],
   "source": [
    "var = [1, 22, 3]\n",
    "var1 = ['dan', 'zoe', 'obama']\n",
    "\n",
    "def test(numbers):\n",
    "    print(numbers)\n",
    "    for i in numbers:\n",
    "        print(i)\n",
    "\n",
    "# test(var)\n",
    "test(var1)"
   ]
  },
  {
   "cell_type": "code",
   "execution_count": 28,
   "id": "0c4529d4-53b0-4b47-ae04-04278c433e5a",
   "metadata": {},
   "outputs": [
    {
     "name": "stdout",
     "output_type": "stream",
     "text": [
      "10\n"
     ]
    }
   ],
   "source": [
    "def multiply(n1, n2=1):\n",
    "    print(n1 * n2)\n",
    "\n",
    "multiply(10)\n",
    "    "
   ]
  },
  {
   "cell_type": "code",
   "execution_count": 39,
   "id": "9adb6bd9-7417-4412-8770-f7c712465207",
   "metadata": {},
   "outputs": [
    {
     "name": "stdout",
     "output_type": "stream",
     "text": [
      "1\n",
      "(2, 4, 5, 6, 7, 8)\n",
      "0\n",
      "1\n",
      "2\n",
      "3\n",
      "4\n",
      "5\n"
     ]
    }
   ],
   "source": [
    "def test(a, *args):\n",
    "    print(a)\n",
    "    print(args)\n",
    "    for i in range(len(args)):\n",
    "        print(i)\n",
    "\n",
    "test(1,2,4, 5, 6, 7, 8)\n"
   ]
  },
  {
   "cell_type": "code",
   "execution_count": 73,
   "id": "287fcf5b-03ab-4cf4-9e3c-978364af7c0c",
   "metadata": {},
   "outputs": [
    {
     "name": "stdout",
     "output_type": "stream",
     "text": [
      "dan\n",
      "elaine\n",
      "zoe\n"
     ]
    }
   ],
   "source": [
    "def test(*kwargs):\n",
    "    for var in kwargs:\n",
    "        print(var)\n",
    "\n",
    "test('dan','elaine','zoe')"
   ]
  },
  {
   "cell_type": "code",
   "execution_count": 71,
   "id": "aed36854-aeb9-49c6-a992-d552eb8b5124",
   "metadata": {},
   "outputs": [
    {
     "name": "stdout",
     "output_type": "stream",
     "text": [
      "fn = dan\n",
      "ln = test\n",
      "mobile = 555\n"
     ]
    }
   ],
   "source": [
    "def test(**kwargs):\n",
    "    for key, value in kwargs.items():\n",
    "        print(\"{} = {}\".format(key, value))\n",
    "\n",
    "test(fn='dan', ln='test', mobile=555)"
   ]
  },
  {
   "cell_type": "code",
   "execution_count": 69,
   "id": "4455f496-26a1-4297-bb98-e56f61341d11",
   "metadata": {},
   "outputs": [
    {
     "name": "stdout",
     "output_type": "stream",
     "text": [
      "fn = dan\n",
      "ln = test\n",
      "mobile = 555\n"
     ]
    }
   ],
   "source": [
    "def test(**kwargs):\n",
    "    for key, value in kwargs.items():\n",
    "        print(\"%s = %s\" %(key, value))\n",
    "\n",
    "dan = {'fn':'dan', 'ln':'test', 'mobile':555}\n",
    "\n",
    "test(**dan)"
   ]
  },
  {
   "cell_type": "code",
   "execution_count": null,
   "id": "ce107c97-9137-4f0b-8d1c-080c25d39e3f",
   "metadata": {},
   "outputs": [],
   "source": []
  }
 ],
 "metadata": {
  "kernelspec": {
   "display_name": "Python 3 (ipykernel)",
   "language": "python",
   "name": "python3"
  },
  "language_info": {
   "codemirror_mode": {
    "name": "ipython",
    "version": 3
   },
   "file_extension": ".py",
   "mimetype": "text/x-python",
   "name": "python",
   "nbconvert_exporter": "python",
   "pygments_lexer": "ipython3",
   "version": "3.10.0"
  }
 },
 "nbformat": 4,
 "nbformat_minor": 5
}
