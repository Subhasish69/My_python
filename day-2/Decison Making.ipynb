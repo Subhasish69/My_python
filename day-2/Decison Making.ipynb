{
 "cells": [
  {
   "cell_type": "markdown",
   "id": "7bdb6e2b-8e29-40ee-805f-842c236bdb47",
   "metadata": {},
   "source": [
    "# Decison Making"
   ]
  },
  {
   "cell_type": "markdown",
   "id": "c052f367-4c18-423d-bf97-df26de186440",
   "metadata": {},
   "source": [
    "## if"
   ]
  },
  {
   "cell_type": "code",
   "execution_count": 4,
   "id": "a2e7f7f5-0496-426d-ade6-fd1ff2506e2b",
   "metadata": {},
   "outputs": [
    {
     "name": "stdout",
     "output_type": "stream",
     "text": [
      "done\n"
     ]
    }
   ],
   "source": [
    "a = 25\n",
    "if(a%2==0):\n",
    "    print('a is an even number')\n",
    "print ('done')"
   ]
  },
  {
   "cell_type": "markdown",
   "id": "c714acce-66de-42be-8508-231926744b5c",
   "metadata": {},
   "source": [
    "## if-else"
   ]
  },
  {
   "cell_type": "code",
   "execution_count": 5,
   "id": "f1f24313-aafb-4de3-9935-98fc3bf92a62",
   "metadata": {},
   "outputs": [
    {
     "name": "stdout",
     "output_type": "stream",
     "text": [
      "a is odd number\n",
      "done\n"
     ]
    }
   ],
   "source": [
    "a = 25\n",
    "if(a%2==0):\n",
    "    print('a is an even number')\n",
    "else:\n",
    "    print('a is odd number')\n",
    "print ('done')"
   ]
  },
  {
   "cell_type": "markdown",
   "id": "579d6b72-cdb4-431b-9c9b-15d0bef85569",
   "metadata": {},
   "source": [
    "# Nested if-else"
   ]
  },
  {
   "cell_type": "code",
   "execution_count": 8,
   "id": "8c0d292c-b20d-431c-a796-5db356d0d9b3",
   "metadata": {},
   "outputs": [
    {
     "name": "stdout",
     "output_type": "stream",
     "text": [
      "a is a even number\n",
      "done\n"
     ]
    }
   ],
   "source": [
    "a = 44\n",
    "if(a==0):\n",
    "    print('a is equal to 0')\n",
    "else:\n",
    "    if(a%2==0):\n",
    "        print('a is a even number')\n",
    "    else:\n",
    "        print('a is a odd number')\n",
    "print ('done')"
   ]
  },
  {
   "cell_type": "markdown",
   "id": "8f6ea177-c153-4872-a9b1-9cbbc546dda0",
   "metadata": {},
   "source": [
    "# else-if"
   ]
  },
  {
   "cell_type": "code",
   "execution_count": 9,
   "id": "377ced22-be78-41bd-a6b4-35bc475f494a",
   "metadata": {},
   "outputs": [
    {
     "name": "stdout",
     "output_type": "stream",
     "text": [
      "a is a even number\n"
     ]
    }
   ],
   "source": [
    "a = 24;\n",
    "if(a==0):\n",
    "    print(\"a is 0\")\n",
    "elif(a%2==0):\n",
    "    print('a is a even number')\n",
    "else:\n",
    "    print('a is a odd number')"
   ]
  },
  {
   "cell_type": "markdown",
   "id": "6d836760-3a6d-43dc-bc2d-94198be31d78",
   "metadata": {},
   "source": [
    "# match"
   ]
  },
  {
   "cell_type": "code",
   "execution_count": 10,
   "id": "c874560b-bcc8-44c9-95fd-43dbc86d9f1a",
   "metadata": {},
   "outputs": [
    {
     "name": "stdout",
     "output_type": "stream",
     "text": [
      "result is True\n"
     ]
    }
   ],
   "source": [
    "result = True\n",
    "match result:\n",
    "    case True:\n",
    "        print(\"result is True\")\n",
    "    case False:\n",
    "        print(\"result is False\")"
   ]
  },
  {
   "cell_type": "code",
   "execution_count": null,
   "id": "caa33e0a-a5c3-4000-8b57-d4054060bc8b",
   "metadata": {},
   "outputs": [],
   "source": []
  }
 ],
 "metadata": {
  "kernelspec": {
   "display_name": "Python 3 (ipykernel)",
   "language": "python",
   "name": "python3"
  },
  "language_info": {
   "codemirror_mode": {
    "name": "ipython",
    "version": 3
   },
   "file_extension": ".py",
   "mimetype": "text/x-python",
   "name": "python",
   "nbconvert_exporter": "python",
   "pygments_lexer": "ipython3",
   "version": "3.10.0"
  }
 },
 "nbformat": 4,
 "nbformat_minor": 5
}
