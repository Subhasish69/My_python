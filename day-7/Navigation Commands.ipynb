{
 "cells": [
  {
   "cell_type": "markdown",
   "id": "85a29b6a-20fe-48e8-bb59-71c3af39173f",
   "metadata": {},
   "source": [
    "# Navigation Commands\n",
    "* back\n",
    "* forward\n",
    "* refresh"
   ]
  },
  {
   "cell_type": "code",
   "execution_count": 1,
   "id": "4a96cb91-9e96-43a3-945f-2d61b971a02b",
   "metadata": {},
   "outputs": [],
   "source": [
    "from selenium import webdriver\n",
    "from selenium.webdriver import Chrome\n",
    "\n",
    "driver = Chrome()\n",
    "driver.get(\"https://www.google.com\")"
   ]
  },
  {
   "cell_type": "code",
   "execution_count": 2,
   "id": "193b9382-9d62-497c-82c3-b5c2a00c9773",
   "metadata": {},
   "outputs": [],
   "source": [
    "driver.get(\"https://www.youtube.com\")\n"
   ]
  },
  {
   "cell_type": "code",
   "execution_count": 3,
   "id": "7d33b0d1-fcf3-4bc0-b7ca-9c97da0f980b",
   "metadata": {},
   "outputs": [],
   "source": [
    "# back\n",
    "driver.back()"
   ]
  },
  {
   "cell_type": "code",
   "execution_count": 4,
   "id": "76d2a26f-06d1-4e82-8615-16d767caf371",
   "metadata": {},
   "outputs": [],
   "source": [
    "# forward\n",
    "driver.forward()"
   ]
  },
  {
   "cell_type": "code",
   "execution_count": 5,
   "id": "3085be0e-d15f-4feb-97ee-fd3c15bfbe63",
   "metadata": {},
   "outputs": [],
   "source": [
    "# refresh\n",
    "driver.refresh()"
   ]
  },
  {
   "cell_type": "code",
   "execution_count": null,
   "id": "ac48d581-3b1a-46f5-89a3-173e8cadff77",
   "metadata": {},
   "outputs": [],
   "source": []
  }
 ],
 "metadata": {
  "kernelspec": {
   "display_name": "Python 3 (ipykernel)",
   "language": "python",
   "name": "python3"
  },
  "language_info": {
   "codemirror_mode": {
    "name": "ipython",
    "version": 3
   },
   "file_extension": ".py",
   "mimetype": "text/x-python",
   "name": "python",
   "nbconvert_exporter": "python",
   "pygments_lexer": "ipython3",
   "version": "3.10.0"
  }
 },
 "nbformat": 4,
 "nbformat_minor": 5
}
