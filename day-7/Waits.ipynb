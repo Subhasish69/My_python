{
 "cells": [
  {
   "cell_type": "markdown",
   "id": "6261eca4-e4e0-4276-b524-dcad8dc8c8f0",
   "metadata": {},
   "source": [
    "# Waits"
   ]
  },
  {
   "cell_type": "markdown",
   "id": "36cccae4-db70-4f47-a7c1-856ca76102d2",
   "metadata": {},
   "source": [
    "There are 5 kinds of wait\n",
    "1. At page level\n",
    "    * implicit wait\n",
    "    * page load timeout\n",
    "    * script load timeout\n",
    "2. At element level\n",
    "    * explicit wait\n",
    "    * fluent wait\n"
   ]
  },
  {
   "cell_type": "code",
   "execution_count": 1,
   "id": "65560674-6adf-4e90-99bc-de094868cf96",
   "metadata": {},
   "outputs": [],
   "source": [
    "from selenium import webdriver\n",
    "from selenium.webdriver.common.by import By\n",
    "from selenium.webdriver.common.keys import Keys\n",
    "from selenium.webdriver import Chrome"
   ]
  },
  {
   "cell_type": "code",
   "execution_count": 2,
   "id": "0253a505-3612-4b85-82a9-454fe57a7061",
   "metadata": {},
   "outputs": [],
   "source": [
    "# implict wait\n",
    "driver = Chrome()\n",
    "driver.implicitly_wait(10) # wait time in seconds\n",
    "driver.get(\"https://www.facebook.com\")"
   ]
  },
  {
   "cell_type": "code",
   "execution_count": 3,
   "id": "572c5f18-6b65-4268-948b-e2261b96f869",
   "metadata": {},
   "outputs": [],
   "source": [
    "# page load timeout\n",
    "# Usually applied in pom\n",
    "driver = Chrome()\n",
    "driver.set_page_load_timeout(10)\n",
    "driver.get(\"https://www.facebook.com\")\n"
   ]
  },
  {
   "cell_type": "code",
   "execution_count": 5,
   "id": "afa2aae5-33ca-4925-a209-f686423c6fed",
   "metadata": {},
   "outputs": [
    {
     "name": "stdout",
     "output_type": "stream",
     "text": [
      "done\n"
     ]
    }
   ],
   "source": [
    "# script load timeout\n",
    "driver = Chrome()\n",
    "driver.set_script_timeout(10)\n",
    "driver.get(\"https://www.facebook.com\")\n",
    "\n",
    "driver.execute_async_script(\"window.setTimeout(arguments[arguments.length - 1], 5000);\")\n",
    "print(\"done\")"
   ]
  },
  {
   "cell_type": "code",
   "execution_count": null,
   "id": "ba0c393e-3f8b-4c8c-bc7c-0f2d7ae26c05",
   "metadata": {},
   "outputs": [],
   "source": [
    "# At element level\n",
    "WebDriverWait(driver, timeout, poll_frequency=0.5, ignored_exceptions=None)"
   ]
  },
  {
   "cell_type": "code",
   "execution_count": 14,
   "id": "b788b34a-db8a-4de2-9b6d-2fae88fff2c5",
   "metadata": {},
   "outputs": [],
   "source": [
    "# explict wait\n",
    "\n",
    "from selenium import webdriver\n",
    "from selenium.webdriver.common.by import By\n",
    "from selenium.webdriver.common.keys import Keys\n",
    "from selenium.webdriver.support.ui import WebDriverWait\n",
    "from selenium.webdriver.support import expected_conditions as EC \n",
    "from selenium.webdriver import Chrome\n",
    "\n",
    "driver = webdriver.Chrome()\n",
    "driver.get(\"https://www.facebook.com\")\n",
    "\n",
    "#Single line declaration\n",
    "# email_elem = WebDriverWait(driver, 10).until(EC.visibility_of(driver.find_element(By.ID, \"email\")))\n",
    "\n",
    "# Resuable multiple line declaration\n",
    "wait = WebDriverWait(driver, 10)\n",
    "email_elem = wait.until(EC.visibility_of(driver.find_element(By.ID, \"email\")))\n",
    "\n",
    "email_elem.send_keys(\"dan@gmail.com\")\n"
   ]
  },
  {
   "cell_type": "code",
   "execution_count": 15,
   "id": "75778140-5a59-405a-b1fb-11e8b03f5dd5",
   "metadata": {},
   "outputs": [],
   "source": [
    "# fluent wait\n",
    "\n",
    "from selenium import webdriver\n",
    "from selenium.webdriver.common.by import By\n",
    "from selenium.webdriver.common.keys import Keys\n",
    "from selenium.webdriver.support.ui import WebDriverWait\n",
    "from selenium.webdriver.support import expected_conditions as EC \n",
    "from selenium.webdriver import Chrome\n",
    "\n",
    "driver = webdriver.Chrome()\n",
    "driver.get(\"https://www.facebook.com\")\n",
    "\n",
    "#Single line declaration\n",
    "# email_elem = WebDriverWait(driver, 10, 2, (\"ElementNotVisibleException\")).until(EC.visibility_of(driver.find_element(By.ID, \"email\")))\n",
    "\n",
    "# Resuable multiple line declaration\n",
    "wait = WebDriverWait(driver, 10, 2, (\"ElementNotVisibleException\"))\n",
    "email_elem = wait.until(EC.visibility_of(driver.find_element(By.ID, \"email\")))\n",
    "\n",
    "email_elem.send_keys(\"dan@gmail.com\")"
   ]
  },
  {
   "cell_type": "code",
   "execution_count": 6,
   "id": "376c2746-446a-4d9b-a529-72c63ef09e7d",
   "metadata": {},
   "outputs": [],
   "source": []
  },
  {
   "cell_type": "code",
   "execution_count": 9,
   "id": "bc882f63-1478-4096-b4a9-498e5a82d760",
   "metadata": {},
   "outputs": [
    {
     "data": {
      "text/plain": [
       "str"
      ]
     },
     "execution_count": 9,
     "metadata": {},
     "output_type": "execute_result"
    }
   ],
   "source": []
  },
  {
   "cell_type": "code",
   "execution_count": null,
   "id": "041aa55b-2a62-48d6-842d-e48e77f12f00",
   "metadata": {},
   "outputs": [],
   "source": []
  }
 ],
 "metadata": {
  "kernelspec": {
   "display_name": "Python 3 (ipykernel)",
   "language": "python",
   "name": "python3"
  },
  "language_info": {
   "codemirror_mode": {
    "name": "ipython",
    "version": 3
   },
   "file_extension": ".py",
   "mimetype": "text/x-python",
   "name": "python",
   "nbconvert_exporter": "python",
   "pygments_lexer": "ipython3",
   "version": "3.10.0"
  }
 },
 "nbformat": 4,
 "nbformat_minor": 5
}
