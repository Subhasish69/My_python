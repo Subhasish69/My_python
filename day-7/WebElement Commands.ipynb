{
 "cells": [
  {
   "cell_type": "markdown",
   "id": "5cd3e826-e7dd-474a-bfe1-280c308e7d2d",
   "metadata": {},
   "source": [
    "# WebElement Commands"
   ]
  },
  {
   "cell_type": "code",
   "execution_count": null,
   "id": "35eeeaaf-8ffb-400f-8caf-33402f23c591",
   "metadata": {},
   "outputs": [],
   "source": [
    "from selenium import webdriver\n",
    "from selenium.webdriver.common.by import By\n",
    "from selenium.webdriver.common.keys import Keys\n",
    "from selenium.webdriver import Chrome\n",
    "\n",
    "driver = Chrome()\n",
    "driver.get(\"https://www.facebook.com\")\n"
   ]
  },
  {
   "cell_type": "markdown",
   "id": "7200cd96-a633-4620-aaec-a9c5b150345e",
   "metadata": {},
   "source": [
    "## Working with attributes\n",
    "* get attribute\n",
    "* get dom attribute\n",
    "* get property\n",
    "* get text\n",
    "* get css value\n",
    "* get size\n",
    "* get location\n",
    "* get Tagname"
   ]
  },
  {
   "cell_type": "code",
   "execution_count": null,
   "id": "24ffb00e-508f-43ec-8b8b-aed81f86314b",
   "metadata": {},
   "outputs": [],
   "source": [
    "email = driver.find_element(By.ID, \"email\")\n",
    "loginBtn = driver.find_element(By.TAG_NAME, \"button\")\n",
    "forgotPassword = driver.find_element(By.PARTIAL_LINK_TEXT, \"Forgot\")\n",
    "instagram_link = driver.find_element(By.PARTIAL_LINK_TEXT, \"Instagram\")\n",
    "welcome_message = driver.find_element(By.XPATH, \"//h2[@class='_8eso']\")"
   ]
  },
  {
   "cell_type": "code",
   "execution_count": null,
   "id": "41fe2372-bd98-4252-a495-9adadc0a14ef",
   "metadata": {},
   "outputs": [],
   "source": [
    "# get attribute ==> Gets the given attribute or property of the element.\n",
    "# print(email.get_attribute(\"name\"))\n",
    "# print(email.get_attribute(\"data-testid\"))\n",
    "\n",
    "# tool tip\n",
    "print(instagram_link.get_attribute(\"title\"))"
   ]
  },
  {
   "cell_type": "code",
   "execution_count": null,
   "id": "5c679a0a-369e-4f96-8196-7a0be7bb22b5",
   "metadata": {},
   "outputs": [],
   "source": [
    "# get dom attribute ==> Gets the given attribute of the element. Unlike get_attribute(), this method only returns attributes declared in the element’s HTML markup\n",
    "print(email.get_dom_attribute(\"data-testid\"))"
   ]
  },
  {
   "cell_type": "code",
   "execution_count": null,
   "id": "5cf4c44e-065a-4a9f-b245-6c7f5c36e7d5",
   "metadata": {},
   "outputs": [],
   "source": [
    "# get property\n",
    "# print(email.get_property('id'))\n",
    "# print(email.get_property('name'))\n",
    "# print(forgotPassword.get_property(\"href\"))"
   ]
  },
  {
   "cell_type": "code",
   "execution_count": null,
   "id": "c9e89f57-878a-415b-8d56-a13d6525accd",
   "metadata": {},
   "outputs": [],
   "source": [
    "# get text\n",
    "# print(loginBtn.text)\n",
    "\n",
    "print(welcome_message.text)"
   ]
  },
  {
   "cell_type": "code",
   "execution_count": null,
   "id": "471a1402-d958-43c4-9ccb-184094622842",
   "metadata": {},
   "outputs": [],
   "source": [
    "# get css value\n",
    "print(loginBtn.value_of_css_property(\"font-size\"))"
   ]
  },
  {
   "cell_type": "code",
   "execution_count": null,
   "id": "17eec39c-7519-49a1-940a-2c7c85118a53",
   "metadata": {},
   "outputs": [],
   "source": [
    "# get size\n",
    "var_size = loginBtn.size\n",
    "# type(var_size)\n",
    "print(var_size)\n",
    "print(var_size.get('height'))"
   ]
  },
  {
   "cell_type": "code",
   "execution_count": null,
   "id": "719d764e-ce0d-4b86-8220-25953a647e7b",
   "metadata": {},
   "outputs": [],
   "source": [
    "# get location\n",
    "loc = loginBtn.location\n",
    "print(loc)\n",
    "print(loc.get('x'))"
   ]
  },
  {
   "cell_type": "code",
   "execution_count": null,
   "id": "a4b5bbc5-0f25-46bd-a410-db4cb20c390c",
   "metadata": {},
   "outputs": [],
   "source": [
    "# get Tagname\n",
    "print(email.tag_name)"
   ]
  },
  {
   "cell_type": "markdown",
   "id": "a1e0f312-07da-4b17-9675-cf5ad8505d8b",
   "metadata": {},
   "source": [
    "## WebElement Actions\n",
    "* click\n",
    "* send keys\n",
    "* clear\n",
    "* submit"
   ]
  },
  {
   "cell_type": "code",
   "execution_count": null,
   "id": "905c3359-5f29-4288-85f3-d83f1467ebb8",
   "metadata": {},
   "outputs": [],
   "source": [
    "email = driver.find_element(By.ID, \"email\")\n",
    "loginBtn = driver.find_element(By.TAG_NAME, \"button\")\n",
    "forgotPassword = driver.find_element(By.PARTIAL_LINK_TEXT, \"Forgot\")"
   ]
  },
  {
   "cell_type": "code",
   "execution_count": null,
   "id": "4e8b5184-2739-4cbb-b1b9-e3c21bd5a80a",
   "metadata": {},
   "outputs": [],
   "source": [
    "# click\n",
    "forgotPassword.click()"
   ]
  },
  {
   "cell_type": "code",
   "execution_count": null,
   "id": "e6312ea8-841b-4128-b15c-52a794557428",
   "metadata": {},
   "outputs": [],
   "source": [
    "# send keys\n",
    "email.send_keys(\"dan@gmail.com\")"
   ]
  },
  {
   "cell_type": "code",
   "execution_count": null,
   "id": "cd4bf777-5b7a-4b2b-b404-70fbd86ce7cf",
   "metadata": {},
   "outputs": [],
   "source": [
    "# clear\n",
    "email.send_keys(\"dan@gmail.com\")\n",
    "\n",
    "email.clear()\n",
    "\n",
    "email.send_keys(\"john@gmail.com\")"
   ]
  },
  {
   "cell_type": "code",
   "execution_count": null,
   "id": "93986d7c-348e-46c1-90ed-9c9470b95c85",
   "metadata": {},
   "outputs": [],
   "source": [
    "# submit\n",
    "# loginBtn.submit()\n",
    "# driver.find_element(By.TAG_NAME, \"form\").submit()"
   ]
  },
  {
   "cell_type": "markdown",
   "id": "0e56b1a7-b5a7-4a45-8b17-5ac6037e663a",
   "metadata": {},
   "source": [
    "## WebElement State\n",
    "* is displayed\n",
    "* is enabled\n",
    "* is selected"
   ]
  },
  {
   "cell_type": "code",
   "execution_count": null,
   "id": "d09b4263-d38f-4d94-b513-2d41d60d1ded",
   "metadata": {},
   "outputs": [],
   "source": [
    "# is displayed\n",
    "hidden_elem = driver.find_element(By.NAME, \"jazoest\")\n",
    "email = driver.find_element(By.ID, \"email\")\n",
    "\n",
    "print(\"is the hidden element displayed = {}\".format(hidden_elem.is_displayed()))\n",
    "print(\"is the email element displayed = {}\".format(email.is_displayed()))"
   ]
  },
  {
   "cell_type": "code",
   "execution_count": null,
   "id": "8f7e4cc1-8685-4100-a924-78da38d4e196",
   "metadata": {},
   "outputs": [],
   "source": [
    "# is enabled\n",
    "email = driver.find_element(By.ID, \"email\")\n",
    "print(\"is the hidden element displayed = {}\".format(hidden_elem.is_enabled()))"
   ]
  },
  {
   "cell_type": "code",
   "execution_count": 52,
   "id": "33b7d72c-ef59-46db-96a2-8b6b87423d94",
   "metadata": {},
   "outputs": [
    {
     "name": "stdout",
     "output_type": "stream",
     "text": [
      "Before clicking on the Male radio button, is it selected - False\n"
     ]
    }
   ],
   "source": [
    "# is selected\n",
    "male_radio_button = driver.find_element(By.XPATH, \"//input[contains(@id,'u_0_5') or contains(@id,'u_0_7')]\")\n",
    "\n",
    "print(\"Before clicking on the Male radio button, is it selected - {}\".format(male_radio_button.is_selected()))"
   ]
  },
  {
   "cell_type": "code",
   "execution_count": 53,
   "id": "347770ab-ca97-4b17-82c6-5a715ca4d540",
   "metadata": {},
   "outputs": [
    {
     "name": "stdout",
     "output_type": "stream",
     "text": [
      "After clicking on the Male radio button, is it selected - True\n"
     ]
    }
   ],
   "source": [
    "male_radio_button.click()\n",
    "\n",
    "print(\"After clicking on the Male radio button, is it selected - {}\".format(male_radio_button.is_selected()))"
   ]
  },
  {
   "cell_type": "code",
   "execution_count": null,
   "id": "bc64d546-a31d-4c53-8d5b-7c1918038aba",
   "metadata": {},
   "outputs": [],
   "source": []
  }
 ],
 "metadata": {
  "kernelspec": {
   "display_name": "Python 3 (ipykernel)",
   "language": "python",
   "name": "python3"
  },
  "language_info": {
   "codemirror_mode": {
    "name": "ipython",
    "version": 3
   },
   "file_extension": ".py",
   "mimetype": "text/x-python",
   "name": "python",
   "nbconvert_exporter": "python",
   "pygments_lexer": "ipython3",
   "version": "3.10.0"
  }
 },
 "nbformat": 4,
 "nbformat_minor": 5
}
