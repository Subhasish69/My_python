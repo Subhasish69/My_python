{
 "cells": [
  {
   "cell_type": "markdown",
   "id": "d1908d7a-8096-4c9f-a29f-c3f36a8be78c",
   "metadata": {},
   "source": [
    "# Class"
   ]
  },
  {
   "cell_type": "code",
   "execution_count": null,
   "id": "401f2d36-d30e-4083-8c66-feb1aa6e8e0e",
   "metadata": {},
   "outputs": [],
   "source": [
    "class student:\n",
    "    def welcome(self):\n",
    "        print('Welcome to the college')\n",
    "    "
   ]
  },
  {
   "cell_type": "markdown",
   "id": "f0f10359-b8c0-4669-85ce-fb40ad321959",
   "metadata": {},
   "source": [
    "# Objects"
   ]
  },
  {
   "cell_type": "code",
   "execution_count": null,
   "id": "955ce4d0-118f-4b46-a796-99d2539d19a9",
   "metadata": {},
   "outputs": [],
   "source": [
    "class Student:\n",
    "    \n",
    "    def welcome(self):\n",
    "        print('Welcome to the college')\n",
    "\n",
    "obj = Student()\n",
    "obj.welcome()"
   ]
  },
  {
   "cell_type": "markdown",
   "id": "d5a2a882-05b3-4c25-83a9-3dd96d41f02a",
   "metadata": {},
   "source": [
    "# abstraction"
   ]
  },
  {
   "cell_type": "code",
   "execution_count": null,
   "id": "8194b22e-000a-4fc2-ba74-104bae73ca21",
   "metadata": {},
   "outputs": [],
   "source": [
    "# Python does not support abstraction directly, but it supports indirectly via abc\n",
    "\n",
    "from abc import ABC, abstractmethod\n",
    "\n",
    "class car(ABC):\n",
    "    @abstractmethod\n",
    "    def car_name(self):\n",
    "        pass\n",
    "\n",
    "class Seltos(car):\n",
    "    \n",
    "    def car_name(self):\n",
    "        print(\"Car name = KIA Seltos\")\n",
    "        \n",
    "obj = Seltos();\n",
    "obj.car_name()"
   ]
  },
  {
   "cell_type": "markdown",
   "id": "43a68719-e5a6-4638-8fdb-d898b2d4ebdd",
   "metadata": {},
   "source": [
    "# inheritance"
   ]
  },
  {
   "cell_type": "code",
   "execution_count": null,
   "id": "7cbe36bd-c4f8-47b9-b136-597441f06ed7",
   "metadata": {},
   "outputs": [],
   "source": [
    "# Single level inheritance\n",
    "class Father:\n",
    "    \n",
    "    def bike(self):\n",
    "        print(\"Father's bike - Hero Honda Splendor\")\n",
    "\n",
    "class Son(Father):\n",
    "    \n",
    "    def car(self):\n",
    "        print(\"Son's car - Hyundai Creta\")\n",
    "        \n",
    "        \n",
    "obj = Son();\n",
    "obj.car()\n",
    "obj.bike()"
   ]
  },
  {
   "cell_type": "code",
   "execution_count": null,
   "id": "d077b155-7f71-4e99-a955-d2469cab7f32",
   "metadata": {},
   "outputs": [],
   "source": [
    "# multiple level inheritance\n",
    "\n",
    "\n",
    "class Father():\n",
    "    \n",
    "    def bike(self):\n",
    "        print(\"Father's bike - Hero Honda Splendor\")\n",
    "        \n",
    "class Mother():\n",
    "    \n",
    "    def scooter(self):\n",
    "        print(\"Mother's scooter - Activa\")        \n",
    "        \n",
    "\n",
    "class Son(Father, Mother):\n",
    "    \n",
    "    def car(self):\n",
    "        print(\"Son's car - Hyundai Creta\")\n",
    "        \n",
    "        \n",
    "obj = Son();\n",
    "obj.car()\n",
    "obj.bike()\n",
    "obj.scooter()"
   ]
  },
  {
   "cell_type": "markdown",
   "id": "3b4669af-4e0e-40f8-ac3d-89964937b793",
   "metadata": {},
   "source": [
    "# hirearchy"
   ]
  },
  {
   "cell_type": "code",
   "execution_count": null,
   "id": "ffe2fe8b-d19e-4007-9c63-180ac3934885",
   "metadata": {},
   "outputs": [],
   "source": [
    "# hirearchy level inheritance\n",
    "class Father:\n",
    "    \n",
    "    def bike(self):\n",
    "        print(\"Father's bike - Hero Honda Splendor\")\n",
    "\n",
    "class Son(Father):\n",
    "    \n",
    "    def car(self):\n",
    "        print(\"Son's car - Hyundai Creta\")\n",
    "        \n",
    "class Daughter(Father):\n",
    "    \n",
    "    def scooter(self):\n",
    "        print(\"daughter's scooter - Activa\")\n",
    "        \n",
    "        \n",
    "# obj1 = Son();\n",
    "# obj1.car()\n",
    "# obj1.bike()\n",
    "\n",
    "obj2 = Daughter()\n",
    "obj2.scooter()\n",
    "obj2.bike()"
   ]
  },
  {
   "cell_type": "markdown",
   "id": "065f9ad7-e811-4cc4-8db6-f3f3efdb7be2",
   "metadata": {},
   "source": [
    "# Polymorphism"
   ]
  },
  {
   "cell_type": "code",
   "execution_count": null,
   "id": "0174ccca-9097-476b-b189-03d3eaabc01f",
   "metadata": {},
   "outputs": [],
   "source": [
    "# method overriding\n",
    "\n",
    "class Father:\n",
    "    \n",
    "    def bike(self):\n",
    "        print(\"Dad's bike - Hero Honda Splendor\")\n",
    "\n",
    "class Son:\n",
    "    \n",
    "    def bike(self):\n",
    "        print(\"My bike - KTM Duke\")\n",
    "        \n",
    "\n",
    "obj = Son();\n",
    "obj.bike()"
   ]
  },
  {
   "cell_type": "code",
   "execution_count": null,
   "id": "e6aaa706-569c-44aa-b40e-caf383787ac6",
   "metadata": {},
   "outputs": [],
   "source": [
    "# method overloading is not supported in python\n",
    "\n",
    "class Calc:\n",
    "\n",
    "#This kind of implementation will throw error, because the second method declaration will always override the first one, so there will be an error\n",
    "    # def add(self, a, b):\n",
    "    #     result = a + b\n",
    "    #     print(\"Sum = {}\".format(result)\n",
    "    \n",
    "    def add(self, a, b, c):\n",
    "        result = a + b + c\n",
    "        print(\"Sum = {}\".format(result))\n",
    "\n",
    "obj = Calc()\n",
    "obj.add(2,3, 5)\n",
    "    "
   ]
  },
  {
   "cell_type": "code",
   "execution_count": null,
   "id": "682d9ded-d26f-4e3e-b1a6-af091e4f7261",
   "metadata": {},
   "outputs": [],
   "source": [
    "# alternate method to implement method overloading - option1\n",
    "\n",
    "class Calc:\n",
    "     def add(self, a, b, c=0):\n",
    "        result = a + b + c\n",
    "        print(\"Sum = {}\".format(result))\n",
    "\n",
    "obj = Calc()\n",
    "obj.add(2,3,8)"
   ]
  },
  {
   "cell_type": "code",
   "execution_count": null,
   "id": "77f9bc14-be52-4297-bee6-7024d3d2dbf5",
   "metadata": {},
   "outputs": [],
   "source": [
    "# alternate method to implement method overloading - option2\n",
    "\n",
    "class Calc:\n",
    "     def add(self, *args):\n",
    "        result = 0\n",
    "        for i in args:\n",
    "            result = result + i\n",
    "        print(\"Result = {}\".format(result))\n",
    "\n",
    "obj = Calc()\n",
    "obj.add(2,3,8, 10)"
   ]
  },
  {
   "cell_type": "markdown",
   "id": "9000d943-4740-4ebf-8646-2d3510cf4e58",
   "metadata": {},
   "source": [
    "# Encapsulation"
   ]
  },
  {
   "cell_type": "code",
   "execution_count": null,
   "id": "5ea9332b-d7b9-4ae3-9733-b74a2af86c75",
   "metadata": {},
   "outputs": [],
   "source": [
    "# python does not have encapsulation fully supported, partially supported with two underscores(__)\n",
    "\n",
    "class Test:\n",
    "    \n",
    "    current_year = 2021\n",
    "    \n",
    "    def add(self, a, b):\n",
    "        print(a+b)\n",
    "        \n",
    "    #private variables and method ==> prefix with two underscores before the variable name or method name\n",
    "    __password = \"test1234\"\n",
    "    \n",
    "    def __login(self):\n",
    "        print(\"login validation method\")\n",
    "\n",
    "\n",
    "obj = Test()\n",
    "obj.add(2,3)\n",
    "print(obj.current_year)\n",
    "\n",
    "# This will throw error if you are accessing pvt variable or method\n",
    "# print(obj.__password)\n",
    "# obj.__login()\n",
    "\n",
    "#Alternate way to access it\n",
    "print(\"***accessing the pvt data***\")\n",
    "print(obj._Test__password)\n",
    "obj._Test__login()"
   ]
  },
  {
   "cell_type": "markdown",
   "id": "c6cfbaa9-6f3d-4a58-87e0-f769db2b17f4",
   "metadata": {},
   "source": []
  },
  {
   "cell_type": "code",
   "execution_count": null,
   "id": "a8368ec8-224e-43f8-9703-44ba85616653",
   "metadata": {},
   "outputs": [],
   "source": []
  },
  {
   "cell_type": "code",
   "execution_count": null,
   "id": "fe2b2bb2-c5bb-4650-9b07-bad1727452eb",
   "metadata": {},
   "outputs": [],
   "source": []
  }
 ],
 "metadata": {
  "kernelspec": {
   "display_name": "Python 3 (ipykernel)",
   "language": "python",
   "name": "python3"
  },
  "language_info": {
   "codemirror_mode": {
    "name": "ipython",
    "version": 3
   },
   "file_extension": ".py",
   "mimetype": "text/x-python",
   "name": "python",
   "nbconvert_exporter": "python",
   "pygments_lexer": "ipython3",
   "version": "3.10.0"
  }
 },
 "nbformat": 4,
 "nbformat_minor": 5
}
