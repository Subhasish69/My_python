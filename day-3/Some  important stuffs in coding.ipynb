{
 "cells": [
  {
   "cell_type": "markdown",
   "id": "c1ff5664-0123-4a42-bf90-55ec3ef37958",
   "metadata": {},
   "source": [
    "# Contructors"
   ]
  },
  {
   "cell_type": "code",
   "execution_count": null,
   "id": "62c9b65f-4520-4080-beee-7c470fa89c6f",
   "metadata": {},
   "outputs": [],
   "source": [
    "'''\n",
    "Constructors are spl method ==> generally used for some setup activity and it's an optional method\n",
    "This method gets called when the object is getting creating\n",
    "__init__() method\n",
    "'''\n",
    "\n",
    "class Student:\n",
    "    \n",
    "    def __init__(self, name):\n",
    "        self.name = name\n",
    "        print(\"Welcome {}, to the college\".format(self.name))\n",
    "\n",
    "obj = Student(\"Dan\")"
   ]
  },
  {
   "cell_type": "markdown",
   "id": "cd9bf60c-b186-4ee5-870c-3b1cfddcf32b",
   "metadata": {},
   "source": [
    "# Variables"
   ]
  },
  {
   "cell_type": "code",
   "execution_count": null,
   "id": "fc6b539d-5d26-4c0b-bf4e-bfff92713312",
   "metadata": {},
   "outputs": [],
   "source": [
    "'''\n",
    "Types of variables\n",
    "1. local variable\n",
    "2. global variable\n",
    "'''\n",
    "\n",
    "class Test:\n",
    "    \n",
    "    age = 34\n",
    "    \n",
    "    def __init__(self, name):\n",
    "        self.name = name\n",
    "    \n",
    "    def m1(self):\n",
    "        #local variable, only accessible by m1 method\n",
    "        a = 5\n",
    "        print(a)\n",
    "        print(self.age)\n",
    "        print(self.name)\n",
    "     \n",
    "    # this is going to give error\n",
    "    # def m2(self):\n",
    "    #     print(a)\n",
    "        \n",
    "        \n",
    "obj = Test(\"Dan\")\n",
    "obj.m1()"
   ]
  },
  {
   "cell_type": "markdown",
   "id": "43f1ec94-e41f-4de8-8d65-b7102aa76177",
   "metadata": {},
   "source": [
    "# Generators"
   ]
  },
  {
   "cell_type": "code",
   "execution_count": null,
   "id": "f5d1a67a-512e-48eb-8de6-64142cfc6a62",
   "metadata": {},
   "outputs": [],
   "source": [
    "class Test:\n",
    "    \n",
    "    # normal method\n",
    "    def m1(self):\n",
    "        a = 5\n",
    "        return a\n",
    "\n",
    "    # generator\n",
    "    def m2(self):\n",
    "        for i in range(1, 5):\n",
    "            yield i\n",
    "        print('done')\n",
    "\n",
    "# call the general method      \n",
    "# obj = Test()\n",
    "# var = obj.m1()\n",
    "# print(var)\n",
    "\n",
    "\n",
    "# calling the generator method\n",
    "obj = Test()\n",
    "var = obj.m2()\n",
    "for i in var:\n",
    "    print(var.__next__())"
   ]
  },
  {
   "cell_type": "code",
   "execution_count": null,
   "id": "b120853c-0eb8-4d2b-9604-1071b1e4804d",
   "metadata": {},
   "outputs": [],
   "source": [
    "def m1():\n",
    "    yield \"a\"\n",
    "    yield \"b\"\n",
    "    yield \"c\"\n",
    "\n",
    "var = m1()\n",
    "print(var.__next__())\n",
    "print(var.__next__())\n",
    "print(var.__next__())\n"
   ]
  },
  {
   "cell_type": "markdown",
   "id": "55ece500-9d24-4613-9d0c-ef9124115d47",
   "metadata": {},
   "source": [
    "# Decorators"
   ]
  },
  {
   "cell_type": "code",
   "execution_count": 40,
   "id": "f631a00f-6507-431a-be5f-899b233eff8b",
   "metadata": {},
   "outputs": [
    {
     "name": "stdout",
     "output_type": "stream",
     "text": [
      "RAMBO\n"
     ]
    }
   ],
   "source": [
    "var = \"rAmBo\"\n",
    "\n",
    "def small(name):\n",
    "    print(name.lower())\n",
    "\n",
    "def upper(name):\n",
    "    print(name.upper())\n",
    "\n",
    "def display(func):\n",
    "    func(var)\n",
    "    \n",
    "# display(small)\n",
    "display(upper)\n"
   ]
  },
  {
   "cell_type": "code",
   "execution_count": 48,
   "id": "a08bc2b5-6184-4518-8a42-1881fbfe7b1a",
   "metadata": {},
   "outputs": [
    {
     "name": "stdout",
     "output_type": "stream",
     "text": [
      "Covering with bubble sheet-top layer\n",
      "crystal ball\n",
      "Covering with bubble sheet-bottom layer\n"
     ]
    }
   ],
   "source": [
    "var = \"rAmBo\"\n",
    "\n",
    "def glass_wrap(gift_glass):\n",
    "    print(\"Covering with bubble sheet-top layer\")\n",
    "    print(gift_glass)\n",
    "    print(\"Covering with bubble sheet-bottom layer\")\n",
    "    \n",
    "def plastic_wrap(gift_non_glass):\n",
    "    print(\"Covering with polka sheet-top layer\")\n",
    "    print(gift_non_glass)\n",
    "    print(\"Covering with polka sheet-bottom layer\")\n",
    "\n",
    "def wrapping(func, gift_name):\n",
    "    func(gift_name)\n",
    "    \n",
    "# display(small)\n",
    "wrapping(glass_wrap, 'crystal ball')\n",
    "# wrapping(plastic_wrap, \"barbie doll\")"
   ]
  },
  {
   "cell_type": "code",
   "execution_count": null,
   "id": "e38868be-c3da-4766-ad4a-d6d25d87a309",
   "metadata": {},
   "outputs": [],
   "source": []
  },
  {
   "cell_type": "code",
   "execution_count": null,
   "id": "023f4839-d785-4406-aaf9-6e731631d384",
   "metadata": {},
   "outputs": [],
   "source": []
  }
 ],
 "metadata": {
  "kernelspec": {
   "display_name": "Python 3 (ipykernel)",
   "language": "python",
   "name": "python3"
  },
  "language_info": {
   "codemirror_mode": {
    "name": "ipython",
    "version": 3
   },
   "file_extension": ".py",
   "mimetype": "text/x-python",
   "name": "python",
   "nbconvert_exporter": "python",
   "pygments_lexer": "ipython3",
   "version": "3.10.0"
  }
 },
 "nbformat": 4,
 "nbformat_minor": 5
}
