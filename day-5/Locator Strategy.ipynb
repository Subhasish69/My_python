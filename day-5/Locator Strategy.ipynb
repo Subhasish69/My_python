{
 "cells": [
  {
   "cell_type": "code",
   "execution_count": 1,
   "id": "da3c6804-8a42-4194-9e25-094e57937b0d",
   "metadata": {},
   "outputs": [],
   "source": [
    "from selenium import webdriver\n",
    "from selenium.webdriver.common.by import By\n",
    "from selenium.webdriver.common.keys import Keys\n",
    "from selenium.webdriver import Chrome\n",
    "\n",
    "driver = Chrome()\n",
    "driver.get(\"https://www.facebook.com\")"
   ]
  },
  {
   "cell_type": "code",
   "execution_count": null,
   "id": "694602b8-df47-4d64-929f-40706aa66304",
   "metadata": {},
   "outputs": [],
   "source": [
    "# ID\n",
    "driver.find_element(By.ID, \"email\").send_keys(\"dan@gmail.com\")"
   ]
  },
  {
   "cell_type": "code",
   "execution_count": 13,
   "id": "2c02d6d5-21d2-4321-a0a1-5dd375785631",
   "metadata": {},
   "outputs": [],
   "source": [
    "# NAME\n",
    "driver.find_element(By.NAME, \"email\").send_keys(\"from name\")"
   ]
  },
  {
   "cell_type": "code",
   "execution_count": 7,
   "id": "e835dec0-1807-4d6a-950c-99feeaa67061",
   "metadata": {},
   "outputs": [],
   "source": [
    "# CLASS_NAME\n",
    "# driver.find_element(By.CLASS_NAME, \"inputtext _55r1 _6luy\").send_keys(\"from class name\")\n",
    "# driver.find_element(By.CLASS_NAME, \"inputtext\").send_keys(\"from class name-1\")\n",
    "# driver.find_element(By.CLASS_NAME, \"_55r1\").send_keys(\"from class name-2\")\n",
    "driver.find_element(By.CLASS_NAME, \"_6luy\").send_keys(\"from class name-3\")"
   ]
  },
  {
   "cell_type": "code",
   "execution_count": 2,
   "id": "ced657c5-c1cf-4740-bb49-f319003eac30",
   "metadata": {},
   "outputs": [],
   "source": [
    "# TAG_NAME\n",
    "driver.find_element(By.TAG_NAME, \"button\").click()"
   ]
  },
  {
   "cell_type": "code",
   "execution_count": 4,
   "id": "78dacc87-5281-4984-b6a3-0f8f0fcd7ece",
   "metadata": {},
   "outputs": [],
   "source": [
    "# LINK_TEXT\n",
    "driver.find_element(By.LINK_TEXT, \"Forgotten password?\").click()"
   ]
  },
  {
   "cell_type": "code",
   "execution_count": 8,
   "id": "1a4fa15b-5c94-4967-8668-1bebd3befc10",
   "metadata": {},
   "outputs": [],
   "source": [
    "# PARTIAL_LINK_TEXT\n",
    "# driver.find_element(By.PARTIAL_LINK_TEXT, \"Forgotten password?\").click()\n",
    "# driver.find_element(By.PARTIAL_LINK_TEXT, \"Forgotten\").click()\n",
    "# driver.find_element(By.PARTIAL_LINK_TEXT, \"password?\").click()\n",
    "# driver.find_element(By.PARTIAL_LINK_TEXT, \"For\").click()\n",
    "# driver.find_element(By.PARTIAL_LINK_TEXT, \"ord?\").click()\n",
    "# driver.find_element(By.PARTIAL_LINK_TEXT, \"got\").click()\n",
    "# driver.find_element(By.PARTIAL_LINK_TEXT, \"ten pa\").click()\n",
    "driver.find_element(By.PARTIAL_LINK_TEXT, \"?\").click()\n",
    "# driver.find_element(By.PARTIAL_LINK_TEXT, \"F\").click()\n",
    "# driver.find_element(By.PARTIAL_LINK_TEXT, \"sswo\").click()\n",
    "# driver.find_element(By.PARTIAL_LINK_TEXT, \"Forgotten password?\").click()\n",
    "# driver.find_element(By.PARTIAL_LINK_TEXT, \"ten?\").click()\n",
    "# driver.find_element(By.PARTIAL_LINK_TEXT, \"n p\").click()"
   ]
  },
  {
   "cell_type": "code",
   "execution_count": 9,
   "id": "dd5a7a7b-7dd2-44d0-b4a9-b46b160e5827",
   "metadata": {},
   "outputs": [],
   "source": [
    "# XPATH\n",
    "driver.find_element(By.XPATH, \"//input[@id='email']\").send_keys(\"from xpath\")"
   ]
  },
  {
   "cell_type": "code",
   "execution_count": 11,
   "id": "ae3ff8e4-a7da-4895-9008-1b35ae14b021",
   "metadata": {},
   "outputs": [],
   "source": [
    "# CSS\n",
    "driver.find_element(By.CSS_SELECTOR, \"#email\").send_keys(\"from css\")"
   ]
  },
  {
   "cell_type": "code",
   "execution_count": null,
   "id": "1fed8157-3a66-49b1-83d5-b36ac19cfb98",
   "metadata": {},
   "outputs": [],
   "source": []
  }
 ],
 "metadata": {
  "kernelspec": {
   "display_name": "Python 3 (ipykernel)",
   "language": "python",
   "name": "python3"
  },
  "language_info": {
   "codemirror_mode": {
    "name": "ipython",
    "version": 3
   },
   "file_extension": ".py",
   "mimetype": "text/x-python",
   "name": "python",
   "nbconvert_exporter": "python",
   "pygments_lexer": "ipython3",
   "version": "3.10.0"
  }
 },
 "nbformat": 4,
 "nbformat_minor": 5
}
