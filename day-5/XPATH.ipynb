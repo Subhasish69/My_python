{
 "cells": [
  {
   "cell_type": "code",
   "execution_count": null,
   "id": "d0e36deb-7b19-4564-bd0f-e5213ab00a32",
   "metadata": {},
   "outputs": [],
   "source": [
    "from selenium import webdriver\n",
    "from selenium.webdriver.common.by import By\n",
    "from selenium.webdriver.common.keys import Keys\n",
    "from selenium.webdriver import Chrome\n",
    "\n",
    "driver = Chrome()\n",
    "driver.get(\"https://www.facebook.com\")"
   ]
  },
  {
   "cell_type": "markdown",
   "id": "ca4c2ec8-ad97-4810-b70f-334c07a28b67",
   "metadata": {},
   "source": [
    "# Types of xpath\n",
    "* Absolute Path\n",
    "* Relative Path"
   ]
  },
  {
   "cell_type": "markdown",
   "id": "e4edddf7-e0c3-40d3-8bb8-fdd595a763b9",
   "metadata": {},
   "source": [
    "### 1. Absolute Path"
   ]
  },
  {
   "cell_type": "code",
   "execution_count": null,
   "id": "541f44d6-924b-4a17-9060-455327f61e41",
   "metadata": {},
   "outputs": [],
   "source": [
    "abs_path = \"/html/body/div[1]/div[2]/div[1]/div/div/div/div[2]/div/div[1]/form/div[1]/div[1]/input\"\n",
    "driver.find_element(By.XPATH, abs_path).send_keys(\"from abs\")"
   ]
  },
  {
   "cell_type": "markdown",
   "id": "4f8f96a4-b96e-4411-a204-b9728895d909",
   "metadata": {},
   "source": [
    "### 2. Relative Path"
   ]
  },
  {
   "cell_type": "code",
   "execution_count": null,
   "id": "853e8fa3-deac-4693-8ef0-790987db8ea6",
   "metadata": {},
   "outputs": [],
   "source": [
    "rel_path = \"//form/div[1]/div[1]/input\"\n",
    "driver.find_element(By.XPATH, rel_path).send_keys(\"from relative path\")"
   ]
  },
  {
   "cell_type": "code",
   "execution_count": null,
   "id": "539d7e9e-c58c-4e36-a66e-b41b96679cde",
   "metadata": {},
   "outputs": [],
   "source": [
    "Please follow this:\n",
    "==================\n",
    "\n",
    "expression ==> $x(\"//input[@id='email']\")\n",
    "converted code ==> driver.find_element(By.XPATH, \"//input[@id='email']\").send_keys(\"demo\")"
   ]
  },
  {
   "cell_type": "markdown",
   "id": "0f4e824c-5521-4335-b67b-d9219cc5482d",
   "metadata": {},
   "source": [
    "# Xpath Functions\n",
    "* starts-with\n",
    "* contains\n",
    "* text()"
   ]
  },
  {
   "cell_type": "code",
   "execution_count": null,
   "id": "9e7b07c5-f70d-4839-9123-a71f65154846",
   "metadata": {},
   "outputs": [],
   "source": [
    "# starts-with\n",
    "$x(\"//input[starts-with(@id,'email')]\")\n",
    "$x(\"//input[starts-with(@id,'emai')]\")\n",
    "$x(\"//input[starts-with(@id,'ema')]\")\n",
    "$x(\"//input[starts-with(@id,'em')]\")\n",
    "$x(\"//input[starts-with(@id,'e')]\")\n",
    "\n",
    "#contains\n",
    "$x(\"//input[contains(@id,'email')]\")\n",
    "$x(\"//input[contains(@id,'emai')]\")\n",
    "$x(\"//input[contains(@id,'ema')]\")\n",
    "$x(\"//input[contains(@id,'em')]\")\n",
    "$x(\"//input[contains(@id,'e')]\")\n",
    "\n",
    "$x(\"//input[contains(@id,'mail')]\")\n",
    "$x(\"//input[contains(@id,'ail')]\")\n",
    "$x(\"//input[contains(@id,'il')]\")\n",
    "$x(\"//input[contains(@id,'l')]\")\n",
    "\n",
    "$x(\"//input[contains(@id,'mai')]\")\n",
    "$x(\"//input[contains(@id,'ai')]\")\n",
    "$x(\"//input[contains(@id,'ma')]\")\n",
    "$x(\"//input[contains(@id,'i')]\")\n",
    "\n",
    "\n",
    "# text()\n",
    "$x(\"//a[text()='Forgotten password?']\")\n",
    "$x(\"//h2[text()='Facebook helps you connect and share with the people in your life.']\")\n",
    "$x(\"//button[text()='Log In']\")\n",
    "\n",
    "\n",
    "# starts + text()\n",
    "$x(\"//button[starts-with(text(), 'Log In')]\")\n",
    "$x(\"//button[starts-with(text(), 'Log I')]\")\n",
    "$x(\"//button[starts-with(text(), 'Log ')]\")\n",
    "$x(\"//button[starts-with(text(), 'Log')]\")\n",
    "$x(\"//button[starts-with(text(), 'Lo')]\")\n",
    "$x(\"//button[starts-with(text(), 'L')]\")\n",
    "\n",
    "$x(\"//a[starts-with(text(),'Forgotten password?')]\")\n",
    "$x(\"//a[starts-with(text(),'Forgotten password')]\")\n",
    "$x(\"//a[starts-with(text(),'Forgotten passwor')]\")\n",
    "$x(\"//a[starts-with(text(),'Forgotten passwo')]\")\n",
    "$x(\"//a[starts-with(text(),'Forgotten passw')]\")\n",
    "$x(\"//a[starts-with(text(),'Forgotten pas')]\")\n",
    "$x(\"//a[starts-with(text(),'Forgotte')]\")\n",
    "$x(\"//a[starts-with(text(),'Forg')]\")\n",
    "$x(\"//a[starts-with(text(),'For')]\")\n",
    "$x(\"//a[starts-with(text(),'Fo')]\")\n",
    "\n",
    "\n",
    "# contains + text()\n",
    "$x(\"//button[contains(text(), 'Log In')]\")\n",
    "$x(\"//button[contains(text(), 'Log I')]\")\n",
    "$x(\"//button[contains(text(), 'Log ')]\")\n",
    "$x(\"//button[contains(text(), 'Log')]\")\n",
    "$x(\"//button[contains(text(), 'Lo')]\")\n",
    "$x(\"//button[contains(text(), 'L')]\")\n",
    "\n",
    "$x(\"//button[contains(text(), 'Log In')]\")\n",
    "$x(\"//button[contains(text(), 'og In')]\")\n",
    "$x(\"//button[contains(text(), 'g In')]\")\n",
    "$x(\"//button[contains(text(), ' In')]\")\n",
    "$x(\"//button[contains(text(), 'In')]\")\n",
    "$x(\"//button[contains(text(), 'n')]\")\n",
    "\n",
    "\n",
    "$x(\"//button[contains(text(), 'og I')]\")\n",
    "$x(\"//button[contains(text(), 'g I')]\")\n",
    "$x(\"//button[contains(text(), 'og ')]\")\n",
    "$x(\"//button[contains(text(), 'Log In')]\")\n",
    "$x(\"//button[contains(text(), 'g I')]\")\n"
   ]
  }
 ],
 "metadata": {
  "kernelspec": {
   "display_name": "Python 3 (ipykernel)",
   "language": "python",
   "name": "python3"
  },
  "language_info": {
   "codemirror_mode": {
    "name": "ipython",
    "version": 3
   },
   "file_extension": ".py",
   "mimetype": "text/x-python",
   "name": "python",
   "nbconvert_exporter": "python",
   "pygments_lexer": "ipython3",
   "version": "3.10.0"
  }
 },
 "nbformat": 4,
 "nbformat_minor": 5
}
