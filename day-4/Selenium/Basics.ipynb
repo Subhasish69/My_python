{
 "cells": [
  {
   "cell_type": "code",
   "execution_count": 5,
   "id": "e639eb49-aa46-4495-8809-7cea4c2fa68d",
   "metadata": {},
   "outputs": [],
   "source": [
    "# to import the webdriver\n",
    "from selenium import webdriver"
   ]
  },
  {
   "cell_type": "code",
   "execution_count": 6,
   "id": "2cc2941c-4c38-49c1-9022-f77a91f77b9d",
   "metadata": {},
   "outputs": [],
   "source": [
    "# to import the browser\n",
    "from selenium.webdriver import Chrome"
   ]
  },
  {
   "cell_type": "code",
   "execution_count": 7,
   "id": "69d1603d-a7e6-41dd-b13f-d1689297142e",
   "metadata": {},
   "outputs": [],
   "source": [
    "# to start the browser\n",
    "driver = Chrome()"
   ]
  },
  {
   "cell_type": "code",
   "execution_count": 10,
   "id": "84e71b50-9463-4049-aad7-9b612f6e5129",
   "metadata": {},
   "outputs": [],
   "source": [
    "# to open a url\n",
    "driver.get('https://en-gb.facebook.com')"
   ]
  },
  {
   "cell_type": "code",
   "execution_count": 11,
   "id": "8cb894f5-853a-4141-bac5-781e94655fc7",
   "metadata": {},
   "outputs": [
    {
     "name": "stdout",
     "output_type": "stream",
     "text": [
      "Facebook – log in or sign up\n"
     ]
    }
   ],
   "source": [
    "# get title of the page\n",
    "print(driver.title)"
   ]
  },
  {
   "cell_type": "code",
   "execution_count": 12,
   "id": "2727be03-cb89-4be7-9bd7-7394931a5057",
   "metadata": {},
   "outputs": [
    {
     "name": "stdout",
     "output_type": "stream",
     "text": [
      "https://en-gb.facebook.com/\n"
     ]
    }
   ],
   "source": [
    "# get current url\n",
    "print(driver.current_url)"
   ]
  },
  {
   "cell_type": "code",
   "execution_count": 17,
   "id": "ee87b98b-3b28-4d68-9905-b5c2f5b4c030",
   "metadata": {},
   "outputs": [],
   "source": [
    "# combined\n",
    "from selenium import webdriver\n",
    "from selenium.webdriver import Chrome"
   ]
  },
  {
   "cell_type": "code",
   "execution_count": 20,
   "id": "799d4fe2-e262-467b-bf62-24273d035a77",
   "metadata": {},
   "outputs": [
    {
     "name": "stdout",
     "output_type": "stream",
     "text": [
      "Facebook – log in or sign up\n",
      "https://en-gb.facebook.com/\n"
     ]
    }
   ],
   "source": [
    "# combined test\n",
    "driver = Chrome()\n",
    "\n",
    "# open the url\n",
    "driver.get('https://en-gb.facebook.com')\n",
    "\n",
    "# get title of the page\n",
    "print(driver.title)\n",
    "\n",
    "# get current url\n",
    "print(driver.current_url)"
   ]
  },
  {
   "cell_type": "code",
   "execution_count": 21,
   "id": "aea44a42-047a-4095-8bc0-58efc0bb7846",
   "metadata": {},
   "outputs": [
    {
     "name": "stdout",
     "output_type": "stream",
     "text": [
      "Facebook – log in or sign up\n",
      "https://en-gb.facebook.com/\n"
     ]
    }
   ],
   "source": [
    "# for firefox browser\n",
    "\n",
    "from selenium.webdriver import Firefox\n",
    "# combined test\n",
    "driver = Firefox()\n",
    "\n",
    "# open the url\n",
    "driver.get('https://en-gb.facebook.com')\n",
    "\n",
    "# get title of the page\n",
    "print(driver.title)\n",
    "\n",
    "# get current url\n",
    "print(driver.current_url)"
   ]
  },
  {
   "cell_type": "code",
   "execution_count": 22,
   "id": "d35e4e99-bfd2-47c7-8ba9-858487041f6c",
   "metadata": {},
   "outputs": [
    {
     "name": "stdout",
     "output_type": "stream",
     "text": [
      "Facebook – log in or sign up\n",
      "https://en-gb.facebook.com/\n"
     ]
    }
   ],
   "source": [
    "# for edge browser\n",
    "\n",
    "from selenium.webdriver import Edge\n",
    "# combined test\n",
    "driver = Edge()\n",
    "\n",
    "# open the url\n",
    "driver.get('https://en-gb.facebook.com')\n",
    "\n",
    "# get title of the page\n",
    "print(driver.title)\n",
    "\n",
    "# get current url\n",
    "print(driver.current_url)"
   ]
  },
  {
   "cell_type": "code",
   "execution_count": null,
   "id": "637da7d6-c122-4d61-b1eb-96c0a1a6e59d",
   "metadata": {},
   "outputs": [],
   "source": []
  }
 ],
 "metadata": {
  "kernelspec": {
   "display_name": "Python 3 (ipykernel)",
   "language": "python",
   "name": "python3"
  },
  "language_info": {
   "codemirror_mode": {
    "name": "ipython",
    "version": 3
   },
   "file_extension": ".py",
   "mimetype": "text/x-python",
   "name": "python",
   "nbconvert_exporter": "python",
   "pygments_lexer": "ipython3",
   "version": "3.10.0"
  }
 },
 "nbformat": 4,
 "nbformat_minor": 5
}
