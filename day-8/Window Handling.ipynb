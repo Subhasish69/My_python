{
 "cells": [
  {
   "cell_type": "markdown",
   "id": "df118a60-b1dd-40f5-9c63-abaee2b8d1e7",
   "metadata": {},
   "source": [
    "# <center>Window Handling</center>\n",
    "***"
   ]
  },
  {
   "cell_type": "markdown",
   "id": "5dd9b25a-e4ae-44c6-a3ac-cf1355687a8c",
   "metadata": {},
   "source": [
    "## Following are the window handling methods\n",
    "* driver.current_window_handle ==> gets the current window handle\n",
    "* driver.window_handles ==> give the list of window handles\n",
    "* driver.switch_to.window(<window-id>) ==> Switch to any window\n",
    "* driver.close() ==> to close the tab\n",
    "* driver.quit() ==> to quit the browser"
   ]
  },
  {
   "cell_type": "code",
   "execution_count": 6,
   "id": "4728f030-651a-4592-a790-706dea255e15",
   "metadata": {},
   "outputs": [
    {
     "name": "stdout",
     "output_type": "stream",
     "text": [
      "CDwindow-A30D0DDC57CBD8B870EE8E8B5BBB4D23\n",
      "['CDwindow-A30D0DDC57CBD8B870EE8E8B5BBB4D23']\n"
     ]
    }
   ],
   "source": [
    "# Simple Alert\n",
    "\n",
    "from selenium import webdriver\n",
    "from selenium.webdriver.common.by import By\n",
    "from selenium.webdriver.common.keys import Keys\n",
    "from selenium.webdriver import Chrome\n",
    "\n",
    "driver = Chrome()\n",
    "driver.get(\"https://www.facebook.com\")\n",
    "\n",
    "print(driver.current_window_handle)\n",
    "\n",
    "print(driver.window_handles)"
   ]
  },
  {
   "cell_type": "code",
   "execution_count": 13,
   "id": "04916e48-e438-4081-94f8-018217ee94d5",
   "metadata": {},
   "outputs": [
    {
     "name": "stdout",
     "output_type": "stream",
     "text": [
      "CDwindow-3AC1ECEEF08392D81513D1AA4E4A8467\n",
      "['CDwindow-A30D0DDC57CBD8B870EE8E8B5BBB4D23', 'CDwindow-3AC1ECEEF08392D81513D1AA4E4A8467']\n",
      "CDwindow-3AC1ECEEF08392D81513D1AA4E4A8467\n",
      "Instagram\n"
     ]
    }
   ],
   "source": [
    "# Switching to new window\n",
    "# driver.find_element(By.PARTIAL_LINK_TEXT, \"Instagram\").click()\n",
    "\n",
    "# print(driver.current_window_handle)\n",
    "\n",
    "\n",
    "# # get the total windows\n",
    "tabs = driver.window_handles\n",
    "print(tabs)\n",
    "\n",
    "# print(tabs)\n",
    "driver.switch_to.window(tabs[1])\n",
    "\n",
    "print(driver.current_window_handle)\n",
    "print(driver.title)\n"
   ]
  },
  {
   "cell_type": "code",
   "execution_count": 14,
   "id": "4762c5b9-e7c1-4475-bbaa-d325ece072bf",
   "metadata": {},
   "outputs": [],
   "source": [
    "# close the tab\n",
    "driver.close()"
   ]
  },
  {
   "cell_type": "code",
   "execution_count": 16,
   "id": "d6d55efa-dc40-4c5c-986f-821f3f39e528",
   "metadata": {},
   "outputs": [
    {
     "name": "stdout",
     "output_type": "stream",
     "text": [
      "Facebook – log in or sign up\n"
     ]
    }
   ],
   "source": [
    "# switch to the fb tab\n",
    "driver.switch_to.window(tabs[0])\n",
    "print(driver.title)"
   ]
  },
  {
   "cell_type": "code",
   "execution_count": 17,
   "id": "40dc9e02-e39e-4e0b-ae3a-7dd73f0d978c",
   "metadata": {},
   "outputs": [],
   "source": [
    "# closing the browser\n",
    "driver.quit()"
   ]
  },
  {
   "cell_type": "code",
   "execution_count": null,
   "id": "13f51163-e44b-4984-8c7b-e85c0ad796e4",
   "metadata": {},
   "outputs": [],
   "source": []
  }
 ],
 "metadata": {
  "kernelspec": {
   "display_name": "Python 3 (ipykernel)",
   "language": "python",
   "name": "python3"
  },
  "language_info": {
   "codemirror_mode": {
    "name": "ipython",
    "version": 3
   },
   "file_extension": ".py",
   "mimetype": "text/x-python",
   "name": "python",
   "nbconvert_exporter": "python",
   "pygments_lexer": "ipython3",
   "version": "3.10.0"
  }
 },
 "nbformat": 4,
 "nbformat_minor": 5
}
