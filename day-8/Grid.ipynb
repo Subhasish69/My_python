{
 "cells": [
  {
   "cell_type": "markdown",
   "id": "a43f620b-a352-401e-948b-14bee480b8c1",
   "metadata": {},
   "source": [
    "# <center>Grid</center>\n",
    "***\n"
   ]
  },
  {
   "cell_type": "markdown",
   "id": "b26d535e-8999-400c-be3e-da7dd5232ad7",
   "metadata": {},
   "source": [
    "### Proceedure\n",
    "1. Download the selenium server\n",
    "2. Start the hub ==> `java -jar selenium-server-version>.jar hub`\n",
    "3. Start the node ==> `java -jar selenium-server-version>.jar node`\n",
    "4. Code using remote webdriver\n",
    "\n",
    "    `webdriver.Remote(command_executor=selenium_grid_url, options=webdriver.<browserOptions>())`\n"
   ]
  },
  {
   "cell_type": "code",
   "execution_count": 11,
   "id": "a4b2a860-0820-45b9-8939-0b59dab46d9a",
   "metadata": {},
   "outputs": [
    {
     "name": "stdout",
     "output_type": "stream",
     "text": [
      "Facebook – log in or sign up\n"
     ]
    }
   ],
   "source": [
    "from selenium import webdriver\n",
    "from selenium.webdriver.common.by import By\n",
    "from selenium.webdriver.common.keys import Keys\n",
    "\n",
    "cap =  {\"browserName\": \"chrome\"}\n",
    "grid_url = 'http://192.168.64.1:4444/wd/hub'\n",
    "\n",
    "driver = webdriver.Remote(command_executor=grid_url, options=webdriver.ChromeOptions())\n",
    "driver.get(\"https://www.facebook.com\")\n",
    "print(driver.title)"
   ]
  },
  {
   "cell_type": "code",
   "execution_count": null,
   "id": "ea2d48bf-f656-4aa9-a8ad-1add646242be",
   "metadata": {},
   "outputs": [],
   "source": []
  }
 ],
 "metadata": {
  "kernelspec": {
   "display_name": "Python 3 (ipykernel)",
   "language": "python",
   "name": "python3"
  },
  "language_info": {
   "codemirror_mode": {
    "name": "ipython",
    "version": 3
   },
   "file_extension": ".py",
   "mimetype": "text/x-python",
   "name": "python",
   "nbconvert_exporter": "python",
   "pygments_lexer": "ipython3",
   "version": "3.10.0"
  }
 },
 "nbformat": 4,
 "nbformat_minor": 5
}
