{
 "cells": [
  {
   "cell_type": "markdown",
   "id": "0059adf0-2183-48c2-8cf4-ef1845c2fc5f",
   "metadata": {},
   "source": [
    "# <center>Modal Windows</center>\n",
    "***"
   ]
  },
  {
   "cell_type": "code",
   "execution_count": null,
   "id": "e4e2e7a5-0918-42df-b99e-86d98c908e0d",
   "metadata": {},
   "outputs": [],
   "source": [
    "from selenium import webdriver\n",
    "from selenium.webdriver.common.by import By\n",
    "from selenium.webdriver.common.keys import Keys\n",
    "from selenium.webdriver.common.alert import Alert\n",
    "from selenium.webdriver import Chrome\n",
    "\n",
    "driver = Chrome()\n",
    "driver.maximize_window()\n",
    "driver.implicitly_wait(10)\n",
    "driver.get(\"https://www.geeksforgeeks.org/\")\n",
    "\n",
    "# Modal Window operation\n",
    "\n",
    "# Clicking on the Sign In button\n",
    "driver.find_element(By.PARTIAL_LINK_TEXT, \"Sign In\").click()\n",
    "\n",
    "# Entering the username\n",
    "driver.find_element(By.ID, \"luser\").send_keys(\"ramesh\")"
   ]
  }
 ],
 "metadata": {
  "kernelspec": {
   "display_name": "Python 3 (ipykernel)",
   "language": "python",
   "name": "python3"
  },
  "language_info": {
   "codemirror_mode": {
    "name": "ipython",
    "version": 3
   },
   "file_extension": ".py",
   "mimetype": "text/x-python",
   "name": "python",
   "nbconvert_exporter": "python",
   "pygments_lexer": "ipython3",
   "version": "3.10.0"
  }
 },
 "nbformat": 4,
 "nbformat_minor": 5
}
