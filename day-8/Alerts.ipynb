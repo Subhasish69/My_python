{
 "cells": [
  {
   "cell_type": "markdown",
   "id": "df118a60-b1dd-40f5-9c63-abaee2b8d1e7",
   "metadata": {},
   "source": [
    "# <center>Javascript Alerts</center>\n",
    "***"
   ]
  },
  {
   "cell_type": "markdown",
   "id": "1e565bd2-6f43-4294-a9a6-4271fc4b08ce",
   "metadata": {},
   "source": [
    "## 3 Types\n",
    "* Simple Alert\n",
    "* Confirmation Alert\n",
    "* Prompt Alert"
   ]
  },
  {
   "cell_type": "code",
   "execution_count": 4,
   "id": "4728f030-651a-4592-a790-706dea255e15",
   "metadata": {},
   "outputs": [
    {
     "name": "stdout",
     "output_type": "stream",
     "text": [
      "I am a JS Alert\n"
     ]
    }
   ],
   "source": [
    "# Simple Alert\n",
    "\n",
    "from selenium import webdriver\n",
    "from selenium.webdriver.common.by import By\n",
    "from selenium.webdriver.common.keys import Keys\n",
    "from selenium.webdriver.common.alert import Alert\n",
    "from selenium.webdriver import Chrome\n",
    "\n",
    "driver = Chrome()\n",
    "driver.get(\"https://the-internet.herokuapp.com/javascript_alerts\")\n",
    "\n",
    "simple_alert = driver.find_element(By.XPATH, \"//button[contains(text(),'Alert')]\")\n",
    "simple_alert.click()\n",
    "\n",
    "# creating an object of alert\n",
    "# alert = Alert(driver)\n",
    "\n",
    "# switching to\n",
    "alert = driver.switch_to.alert\n",
    "\n",
    "# get the message\n",
    "print(alert.text)\n"
   ]
  },
  {
   "cell_type": "code",
   "execution_count": 6,
   "id": "134d1baa-3e1e-4eee-af07-0db62787c687",
   "metadata": {},
   "outputs": [
    {
     "name": "stdout",
     "output_type": "stream",
     "text": [
      "I am a JS Confirm\n"
     ]
    }
   ],
   "source": [
    "# Confirmation Alert\n",
    "\n",
    "from selenium import webdriver\n",
    "from selenium.webdriver.common.by import By\n",
    "from selenium.webdriver.common.keys import Keys\n",
    "from selenium.webdriver.common.alert import Alert\n",
    "from selenium.webdriver import Chrome\n",
    "\n",
    "driver = Chrome()\n",
    "driver.get(\"https://the-internet.herokuapp.com/javascript_alerts\")\n",
    "\n",
    "simple_alert = driver.find_element(By.XPATH, \"//button[contains(text(),'Confirm')]\")\n",
    "simple_alert.click()\n",
    "\n",
    "# creating an object of alert\n",
    "\n",
    "# option-1\n",
    "alert = Alert(driver)\n",
    "\n",
    "#option-2\n",
    "# alert = driver.switch_to.alert\n",
    "\n",
    "\n",
    "# get the message\n",
    "print(alert.text)\n",
    "\n",
    "# Accept the alert\n",
    "# alert.accept()\n",
    "\n",
    "# Dismiss the alert\n",
    "alert.dismiss()\n"
   ]
  },
  {
   "cell_type": "code",
   "execution_count": 8,
   "id": "babcd8b7-c0a7-4884-8db9-deb2f71c9841",
   "metadata": {},
   "outputs": [
    {
     "name": "stdout",
     "output_type": "stream",
     "text": [
      "I am a JS prompt\n"
     ]
    }
   ],
   "source": [
    "# Prompt Alert\n",
    "\n",
    "from selenium import webdriver\n",
    "from selenium.webdriver.common.by import By\n",
    "from selenium.webdriver.common.keys import Keys\n",
    "from selenium.webdriver.common.alert import Alert\n",
    "from selenium.webdriver import Chrome\n",
    "from selenium.webdriver import Firefox\n",
    "\n",
    "# driver = Chrome()\n",
    "driver = Firefox()\n",
    "driver.get(\"https://the-internet.herokuapp.com/javascript_alerts\")\n",
    "\n",
    "simple_alert = driver.find_element(By.XPATH, \"//button[contains(text(),'Prompt')]\")\n",
    "simple_alert.click()\n",
    "\n",
    "# creating an object of alert\n",
    "alert = Alert(driver)\n",
    "\n",
    "# get the message\n",
    "print(alert.text)\n",
    "\n",
    "# send keys\n",
    "alert.send_keys(\"dan@gmail.com\")\n",
    "\n",
    "# Accept the alert\n",
    "# alert.accept()\n",
    "\n",
    "# Dismiss the alert\n",
    "# alert.dismiss()"
   ]
  },
  {
   "cell_type": "code",
   "execution_count": null,
   "id": "7a371f48-8aa5-42d2-af53-b1f279737716",
   "metadata": {},
   "outputs": [],
   "source": []
  }
 ],
 "metadata": {
  "kernelspec": {
   "display_name": "Python 3 (ipykernel)",
   "language": "python",
   "name": "python3"
  },
  "language_info": {
   "codemirror_mode": {
    "name": "ipython",
    "version": 3
   },
   "file_extension": ".py",
   "mimetype": "text/x-python",
   "name": "python",
   "nbconvert_exporter": "python",
   "pygments_lexer": "ipython3",
   "version": "3.10.0"
  }
 },
 "nbformat": 4,
 "nbformat_minor": 5
}
