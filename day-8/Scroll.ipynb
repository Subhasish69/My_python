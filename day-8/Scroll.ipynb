{
 "cells": [
  {
   "cell_type": "markdown",
   "id": "df118a60-b1dd-40f5-9c63-abaee2b8d1e7",
   "metadata": {},
   "source": [
    "# <center>Page Scroll </center>\n",
    "***"
   ]
  },
  {
   "cell_type": "code",
   "execution_count": null,
   "id": "2b7a3991-dad8-44a8-9c3f-e12bed2c9a2f",
   "metadata": {},
   "outputs": [],
   "source": [
    "## Scrolling is of 3 types\n",
    "* Scroll By\n",
    "* Scroll To\n",
    "* Scroll into view"
   ]
  },
  {
   "cell_type": "code",
   "execution_count": null,
   "id": "4728f030-651a-4592-a790-706dea255e15",
   "metadata": {},
   "outputs": [],
   "source": [
    "# Scroll By\n",
    "\n",
    "from selenium import webdriver\n",
    "from selenium.webdriver.common.by import By\n",
    "from selenium.webdriver.common.keys import Keys\n",
    "from selenium.webdriver import Chrome\n",
    "\n",
    "driver = Chrome()\n",
    "driver.get(\"https://www.amazon.in/Samsung-Galaxy-Space-Black-Storage/dp/B07HGLM366/ref=sr_1_3?keywords=samsung&qid=1637638941&sr=8-3\")\n",
    "\n",
    "driver.execute_script(\"window.scrollBy(0,1500)\")"
   ]
  },
  {
   "cell_type": "code",
   "execution_count": null,
   "id": "134d1baa-3e1e-4eee-af07-0db62787c687",
   "metadata": {},
   "outputs": [],
   "source": [
    "# Scroll To\n",
    "\n",
    "from selenium import webdriver\n",
    "from selenium.webdriver.common.by import By\n",
    "from selenium.webdriver.common.keys import Keys\n",
    "from selenium.webdriver import Chrome\n",
    "\n",
    "driver = Chrome()\n",
    "driver.get(\"https://www.amazon.in/Samsung-Galaxy-Space-Black-Storage/dp/B07HGLM366/ref=sr_1_3?keywords=samsung&qid=1637638941&sr=8-3\")\n",
    "\n",
    "driver.execute_script(\"window.scrollTo(0, document.body.scrollHeight)\")"
   ]
  },
  {
   "cell_type": "code",
   "execution_count": null,
   "id": "babcd8b7-c0a7-4884-8db9-deb2f71c9841",
   "metadata": {},
   "outputs": [],
   "source": [
    "# Scroll into view\n",
    "\n",
    "from selenium import webdriver\n",
    "from selenium.webdriver.common.by import By\n",
    "from selenium.webdriver.common.keys import Keys\n",
    "from selenium.webdriver import Chrome\n",
    "\n",
    "driver = Chrome()\n",
    "driver.get(\"https://www.amazon.in/Samsung-Galaxy-Space-Black-Storage/dp/B07HGLM366/ref=sr_1_3?keywords=samsung&qid=1637638941&sr=8-3\")\n",
    "\n",
    "techDetails = driver.find_element(By.XPATH, \"//h1[text()='Technical Details']\");\n",
    "driver.execute_script(\"arguments[0].scrollIntoView();\",techDetails);"
   ]
  },
  {
   "cell_type": "code",
   "execution_count": null,
   "id": "04916e48-e438-4081-94f8-018217ee94d5",
   "metadata": {},
   "outputs": [],
   "source": []
  }
 ],
 "metadata": {
  "kernelspec": {
   "display_name": "Python 3 (ipykernel)",
   "language": "python",
   "name": "python3"
  },
  "language_info": {
   "codemirror_mode": {
    "name": "ipython",
    "version": 3
   },
   "file_extension": ".py",
   "mimetype": "text/x-python",
   "name": "python",
   "nbconvert_exporter": "python",
   "pygments_lexer": "ipython3",
   "version": "3.10.0"
  }
 },
 "nbformat": 4,
 "nbformat_minor": 5
}
