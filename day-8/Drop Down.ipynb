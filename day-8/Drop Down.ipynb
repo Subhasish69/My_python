{
 "cells": [
  {
   "cell_type": "markdown",
   "id": "58c50279-fca7-401b-8fcb-3e610939c0e2",
   "metadata": {},
   "source": [
    "# <center>Select Drop Down</center>\n",
    "***"
   ]
  },
  {
   "cell_type": "markdown",
   "id": "52f12a65-5d82-42c7-a21a-965fc22684a3",
   "metadata": {},
   "source": [
    "### Dropdown related commands\n",
    "* Select\n",
    "    * By Index\n",
    "    * By Value\n",
    "    * By Visible Text\n",
    "* Deselect\n",
    "    * By Index\n",
    "    * By Value\n",
    "    * By Visible Text\n",
    "* Get options\n",
    "    * first selected option\n",
    "    * all selections options\n",
    "    * all options"
   ]
  },
  {
   "cell_type": "code",
   "execution_count": 1,
   "id": "308cb332-81c0-44d2-82b2-310acbbbab52",
   "metadata": {},
   "outputs": [],
   "source": [
    "from selenium import webdriver\n",
    "from selenium.webdriver.common.by import By\n",
    "from selenium.webdriver.common.keys import Keys\n",
    "from selenium.webdriver.support.select import Select\n",
    "from selenium.webdriver import chrome\n",
    "\n",
    "driver = webdriver.Chrome()\n",
    "driver.get(\"https://www.facebook.com/r.php\")\n"
   ]
  },
  {
   "cell_type": "code",
   "execution_count": 2,
   "id": "af635bdd-8e5b-4817-a7a5-78adf636bcbf",
   "metadata": {},
   "outputs": [],
   "source": [
    "# Select declaration\n",
    "month = Select(driver.find_element(By.ID,\"month\"))"
   ]
  },
  {
   "cell_type": "code",
   "execution_count": 3,
   "id": "d53ebfd8-ec84-4ba4-a67d-f013d7f9f4da",
   "metadata": {},
   "outputs": [],
   "source": [
    "# Select by index\n",
    "month.select_by_index(2)"
   ]
  },
  {
   "cell_type": "code",
   "execution_count": 4,
   "id": "0975137d-7c57-4734-8908-cc64c8b556b2",
   "metadata": {},
   "outputs": [],
   "source": [
    "# Select by value\n",
    "month.select_by_value(\"6\")"
   ]
  },
  {
   "cell_type": "code",
   "execution_count": 5,
   "id": "eeb81310-670b-4319-a1d8-4b55e49601fe",
   "metadata": {},
   "outputs": [],
   "source": [
    "# Select by visible text\n",
    "month.select_by_visible_text(\"Aug\")"
   ]
  },
  {
   "cell_type": "code",
   "execution_count": 7,
   "id": "36fe3b81-82b2-46b9-9001-f024baba9834",
   "metadata": {},
   "outputs": [
    {
     "name": "stdout",
     "output_type": "stream",
     "text": [
      "Aug\n"
     ]
    }
   ],
   "source": [
    "# get first selected value\n",
    "first_selected_value = month.first_selected_option\n",
    "print(first_selected_value.text)"
   ]
  },
  {
   "cell_type": "code",
   "execution_count": 8,
   "id": "0ec61d58-f65b-4c68-adf1-7ae25d9e9a6d",
   "metadata": {},
   "outputs": [
    {
     "name": "stdout",
     "output_type": "stream",
     "text": [
      "Aug\n"
     ]
    }
   ],
   "source": [
    "# all selected value\n",
    "all_selected_value = month.all_selected_options\n",
    "for i in all_selected_value:\n",
    "    print(i.text)"
   ]
  },
  {
   "cell_type": "code",
   "execution_count": 9,
   "id": "758c76a2-0473-4eab-a320-20453461cc8f",
   "metadata": {},
   "outputs": [
    {
     "name": "stdout",
     "output_type": "stream",
     "text": [
      "Jan\n",
      "Feb\n",
      "Mar\n",
      "Apr\n",
      "May\n",
      "Jun\n",
      "Jul\n",
      "Aug\n",
      "Sep\n",
      "Oct\n",
      "Nov\n",
      "Dec\n"
     ]
    }
   ],
   "source": [
    "# get all the options\n",
    "option = month.options\n",
    "for i in option:\n",
    "    print(i.text)"
   ]
  },
  {
   "cell_type": "code",
   "execution_count": null,
   "id": "da9439e4-8d59-4ba4-b7f1-f211ebe91c65",
   "metadata": {},
   "outputs": [],
   "source": []
  }
 ],
 "metadata": {
  "kernelspec": {
   "display_name": "Python 3 (ipykernel)",
   "language": "python",
   "name": "python3"
  },
  "language_info": {
   "codemirror_mode": {
    "name": "ipython",
    "version": 3
   },
   "file_extension": ".py",
   "mimetype": "text/x-python",
   "name": "python",
   "nbconvert_exporter": "python",
   "pygments_lexer": "ipython3",
   "version": "3.10.0"
  }
 },
 "nbformat": 4,
 "nbformat_minor": 5
}
