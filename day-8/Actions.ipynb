{
 "cells": [
  {
   "cell_type": "markdown",
   "id": "3c8fe43c-4d1e-41e5-94ed-5a7b22fa33e2",
   "metadata": {},
   "source": [
    "# <center>Actions</center>\n",
    "***"
   ]
  },
  {
   "cell_type": "code",
   "execution_count": 6,
   "id": "3a0e3699-7845-41b4-89bf-c62caff3866a",
   "metadata": {},
   "outputs": [],
   "source": [
    "# Mouse over operations\n",
    "from selenium import webdriver\n",
    "from selenium.webdriver.common.by import By\n",
    "from selenium.webdriver.common.keys import Keys\n",
    "from selenium.webdriver.common.action_chains import ActionChains\n",
    "from selenium.webdriver import chrome\n",
    "\n",
    "driver = webdriver.Chrome()\n",
    "driver.get(\"https://www.amazon.in\")\n",
    "\n",
    "nav_icon = driver.find_element(By.XPATH, \"//span[text()='Account & Lists']/span\")\n",
    "\n",
    "actions = ActionChains(driver)\n",
    "actions.move_to_element(nav_icon).perform()\n",
    "\n",
    "driver.find_element(By.PARTIAL_LINK_TEXT, \"Create a Wish List\").click()"
   ]
  },
  {
   "cell_type": "code",
   "execution_count": 4,
   "id": "5017f87b-de71-4518-addf-714acf15451d",
   "metadata": {},
   "outputs": [],
   "source": [
    "# Drag Drop operations\n",
    "\n",
    "from selenium import webdriver\n",
    "from selenium.webdriver.common.by import By\n",
    "from selenium.webdriver.common.keys import Keys\n",
    "from selenium.webdriver.common.action_chains import ActionChains\n",
    "from selenium.webdriver import chrome\n",
    "\n",
    "driver = webdriver.Chrome()\n",
    "driver.get(\"http://www.dhtmlgoodies.com/scripts/drag-drop-custom/demo-drag-drop-3.html\")\n",
    "\n",
    "oslo = driver.find_element(By.ID, \"box1\")\n",
    "norway = driver.find_element(By.ID, \"box101\")\n",
    "\n",
    "actions = ActionChains(driver)\n",
    "actions.drag_and_drop(oslo, norway).perform()\n"
   ]
  },
  {
   "cell_type": "code",
   "execution_count": null,
   "id": "8a8480d5-c8c9-4000-a433-1dadb7f2a61e",
   "metadata": {},
   "outputs": [],
   "source": []
  }
 ],
 "metadata": {
  "kernelspec": {
   "display_name": "Python 3 (ipykernel)",
   "language": "python",
   "name": "python3"
  },
  "language_info": {
   "codemirror_mode": {
    "name": "ipython",
    "version": 3
   },
   "file_extension": ".py",
   "mimetype": "text/x-python",
   "name": "python",
   "nbconvert_exporter": "python",
   "pygments_lexer": "ipython3",
   "version": "3.10.0"
  }
 },
 "nbformat": 4,
 "nbformat_minor": 5
}
