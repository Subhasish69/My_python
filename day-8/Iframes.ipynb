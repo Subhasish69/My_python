{
 "cells": [
  {
   "cell_type": "markdown",
   "id": "33591bb7-4ef3-4b27-965d-fd5785532396",
   "metadata": {},
   "source": [
    "# <center>Iframes</center>\n",
    "***"
   ]
  },
  {
   "cell_type": "markdown",
   "id": "dfdcafa8-6337-43fc-8043-1c6d3b0d0aef",
   "metadata": {},
   "source": [
    "### Switching to iframes\n",
    "* By index\n",
    "* By id or name attribute\n",
    "* By webelement\n",
    "\n",
    "### Switching back from iframes\n",
    "* To Defualt Content\n",
    "* To Parent Frame"
   ]
  },
  {
   "cell_type": "code",
   "execution_count": 10,
   "id": "bcb683bb-d210-45e1-87df-bf69d540efa0",
   "metadata": {},
   "outputs": [],
   "source": [
    "from selenium import webdriver\n",
    "from selenium.webdriver.common.by import By\n",
    "from selenium.webdriver.common.keys import Keys\n",
    "from selenium.webdriver import chrome\n",
    "\n",
    "driver = webdriver.Chrome()\n",
    "driver.get(\"https://www.w3schools.com/jsref/tryit.asp?filename=tryjsref_alert\")"
   ]
  },
  {
   "cell_type": "code",
   "execution_count": 6,
   "id": "9a220a27-4848-4ccd-bdea-d535e0571617",
   "metadata": {},
   "outputs": [],
   "source": [
    "# Swiching to iframe\n",
    "# By index\n",
    "\n",
    "driver.switch_to.frame(1)\n",
    "driver.find_element(By.XPATH, \"//button[text()='Try it']\").click()"
   ]
  },
  {
   "cell_type": "code",
   "execution_count": 9,
   "id": "0f4cb897-dad8-411b-8628-bfcc93efb4f3",
   "metadata": {},
   "outputs": [],
   "source": [
    "# Swiching to iframe\n",
    "# By id or name\n",
    "\n",
    "driver.switch_to.frame(\"iframeResult\")\n",
    "driver.find_element(By.XPATH, \"//button[text()='Try it']\").click()"
   ]
  },
  {
   "cell_type": "code",
   "execution_count": 11,
   "id": "e6e1dcb8-7e88-4446-b262-5717610c8b62",
   "metadata": {},
   "outputs": [],
   "source": [
    "# Swiching to iframe\n",
    "# By webelement\n",
    "\n",
    "iframe_elem = driver.find_element(By.ID, \"iframeResult\")\n",
    "\n",
    "driver.switch_to.frame(iframe_elem)\n",
    "driver.find_element(By.XPATH, \"//button[text()='Try it']\").click()"
   ]
  },
  {
   "cell_type": "code",
   "execution_count": null,
   "id": "48aa6454-ca06-498d-ac61-74bb62f3ad21",
   "metadata": {},
   "outputs": [],
   "source": [
    "# switch to parent iframe\n",
    "driver.switch_to.parent_frame"
   ]
  },
  {
   "cell_type": "code",
   "execution_count": null,
   "id": "016d515f-2259-43c7-ae31-92f24fe2ee72",
   "metadata": {},
   "outputs": [],
   "source": [
    "# switch to default content\n",
    "driver.switch_to.default_content"
   ]
  }
 ],
 "metadata": {
  "kernelspec": {
   "display_name": "Python 3 (ipykernel)",
   "language": "python",
   "name": "python3"
  },
  "language_info": {
   "codemirror_mode": {
    "name": "ipython",
    "version": 3
   },
   "file_extension": ".py",
   "mimetype": "text/x-python",
   "name": "python",
   "nbconvert_exporter": "python",
   "pygments_lexer": "ipython3",
   "version": "3.10.0"
  }
 },
 "nbformat": 4,
 "nbformat_minor": 5
}
